{
 "cells": [
  {
   "cell_type": "markdown",
   "metadata": {},
   "source": [
    "# Técnicas avanzadas de análisis de datos\n",
    "\n",
    "--- \n",
    "\n",
    "\n",
    "Karina Gisele Nicoletti\n",
    "\n",
    "Fecha: 27/01/2020\n",
    "\n",
    "--- "
   ]
  },
  {
   "cell_type": "markdown",
   "metadata": {},
   "source": [
    "##  1- Selección del algoritmo\n",
    "\n",
    "El trabajo será realizado utilizando el algoritmo **Regresión logística**:\n",
    "\n",
    "#### Regresión logística\n",
    "\n",
    "La regresión logística es un tipo de análisis de regresión utilizado para predecir el resultado de una variable categórica en función de las variables independientes. \n",
    "\n",
    "Puede ser utilizada para problemas de clasificación como detección de Spam, clasificar células tumorales, veracidad de un billete, etc.\n",
    "\n",
    "Los ejemplos mencionados corresponden a regresión logística binaria, en donde el resultado puede tomar uno de dos valores posibles. Sin embargo, también puede aplicarse para casos en donde el resultado puede tomar más de 2 valores (regresión logística multinomial), pero no será abordado en este trabajo.\n",
    "\n",
    "Información más detallada puede encontrarse en scikit-learn.org:\n",
    "\n",
    "https://scikit-learn.org/stable/modules/linear_model.html#logistic-regression\n",
    "\n",
    "#### Relación con otros algoritmos\n",
    "\n",
    "La regresión logística es un caso especial de regresión lineal en donde la variable target es categórica por naturaleza. La regresión logística predice la probabilidad de ocurrencia de un evento binario utilizando la función \"logit\" o función sigmoidea.\n",
    "\n",
    "La ecuación de regresión lineal está dada por:\n",
    "$$\\hat y=w_0 + w_1x_1 + w_2 x_2  + \\ldots + w_m x_M$$\n",
    "\n",
    "La función sigmoidea es:\n",
    "\n",
    "$$ p = 1 / (1 + e^-y) $$\n",
    "\n",
    "Reemplazando el valor de y por la ecuación lineal, obtenemos la ecuación de la regresión logarítmica:\n",
    "\n",
    "$$ p = 1 / (1 + e^-(y=w_0 + w_1x_1 + w_2 x_2  + \\ldots + w_m x_M)) $$\n",
    "\n",
    "\n",
    "#### Obtención de pesos\n",
    "\n",
    "Los pesos de cada coeficiente se obtienen minimizando la función de coste, que en el caso de la regresión logística es de la forma:\n",
    "\n",
    "$$J(\\boldsymbol{\\omega}) = \\sum_{i=1}^N \\log{\\left(1+ e^{-y^{(i)}\\boldsymbol{\\omega}^T\\mathbf{x}^{(i)}}\\right)}$$\n",
    "\n",
    "donde $y^{(i)} \\in \\{-1, 1\\}$. En su versión \"regularizada\", la función de coste pasa a ser:\n",
    "\n",
    "$$J(\\boldsymbol{\\omega}) = \\frac{1}{2}||\\boldsymbol{\\omega}||_2^2 + C \\sum_{i=1}^N \\log{\\left(1+ e^{-y^{(i)}\\boldsymbol{\\omega}^T\\mathbf{x}^{(i)}}\\right)}$$\n"
   ]
  },
  {
   "cell_type": "markdown",
   "metadata": {},
   "source": [
    "## 2- Selección de conjunto de datos públicos\n",
    "\n",
    "Se seleccionó un conjunto de datos públicos obtenido de un análisis de billetes (dólares o euros) con el objetivo de identificar si son Falsos o Auténticos (Verdadero).\n",
    "\n",
    "El dataset se obtuvo del UCI Machine Learning Repository:\n",
    "https://archive.ics.uci.edu/ml/machine-learning-databases/00267/data_banknote_authentication.txt\n",
    "\n",
    "Y presenta 4 atributos en cada uno de los registros:\n",
    "\n",
    "1. Varianza de la imagen transformada de Wavelet (continua)\n",
    "2. Asimetría de la imagen transformada de Wavelet (continua)\n",
    "3. Curtosis de la imagen transformada de Wavelet (continua)\n",
    "4. Entropía de imagen (continua)\n",
    "\n",
    " \n",
    "Se buscará como objetivo predecir la autenticidad o no de un billete a partir de los atributos mencionados.\n",
    "\n",
    "\n"
   ]
  },
  {
   "cell_type": "markdown",
   "metadata": {},
   "source": [
    "### Descarga de datos"
   ]
  },
  {
   "cell_type": "code",
   "execution_count": 3,
   "metadata": {},
   "outputs": [],
   "source": [
    "#Se descargan los datos del UCI Machine Learning Repository\n",
    "url=\"https://archive.ics.uci.edu/ml/machine-learning-databases/00267/data_banknote_authentication.txt\"\n"
   ]
  },
  {
   "cell_type": "markdown",
   "metadata": {},
   "source": [
    "### Preparación del entorno \n",
    "\n",
    "Se importan las librerías necesarias para el funcionamiento del código"
   ]
  },
  {
   "cell_type": "code",
   "execution_count": 4,
   "metadata": {},
   "outputs": [],
   "source": [
    "\n",
    "import numpy as np\n",
    "import matplotlib.pyplot as plt\n",
    "import pandas as pd\n",
    "import warnings\n",
    "warnings.filterwarnings('ignore')\n",
    "import seaborn as sns"
   ]
  },
  {
   "cell_type": "markdown",
   "metadata": {},
   "source": [
    "### Análisis exploratorio de los datos\n",
    "Cargamos los datos, los visualizamos y hacemos un análisis exploratorio de los mismos:"
   ]
  },
  {
   "cell_type": "code",
   "execution_count": 5,
   "metadata": {},
   "outputs": [
    {
     "data": {
      "text/html": [
       "<div>\n",
       "<style scoped>\n",
       "    .dataframe tbody tr th:only-of-type {\n",
       "        vertical-align: middle;\n",
       "    }\n",
       "\n",
       "    .dataframe tbody tr th {\n",
       "        vertical-align: top;\n",
       "    }\n",
       "\n",
       "    .dataframe thead th {\n",
       "        text-align: right;\n",
       "    }\n",
       "</style>\n",
       "<table border=\"1\" class=\"dataframe\">\n",
       "  <thead>\n",
       "    <tr style=\"text-align: right;\">\n",
       "      <th></th>\n",
       "      <th>Varianza</th>\n",
       "      <th>Asimetría</th>\n",
       "      <th>Curtosis</th>\n",
       "      <th>Entropía</th>\n",
       "      <th>Class</th>\n",
       "    </tr>\n",
       "  </thead>\n",
       "  <tbody>\n",
       "    <tr>\n",
       "      <td>0</td>\n",
       "      <td>3.62160</td>\n",
       "      <td>8.6661</td>\n",
       "      <td>-2.8073</td>\n",
       "      <td>-0.44699</td>\n",
       "      <td>0</td>\n",
       "    </tr>\n",
       "    <tr>\n",
       "      <td>1</td>\n",
       "      <td>4.54590</td>\n",
       "      <td>8.1674</td>\n",
       "      <td>-2.4586</td>\n",
       "      <td>-1.46210</td>\n",
       "      <td>0</td>\n",
       "    </tr>\n",
       "    <tr>\n",
       "      <td>2</td>\n",
       "      <td>3.86600</td>\n",
       "      <td>-2.6383</td>\n",
       "      <td>1.9242</td>\n",
       "      <td>0.10645</td>\n",
       "      <td>0</td>\n",
       "    </tr>\n",
       "    <tr>\n",
       "      <td>3</td>\n",
       "      <td>3.45660</td>\n",
       "      <td>9.5228</td>\n",
       "      <td>-4.0112</td>\n",
       "      <td>-3.59440</td>\n",
       "      <td>0</td>\n",
       "    </tr>\n",
       "    <tr>\n",
       "      <td>4</td>\n",
       "      <td>0.32924</td>\n",
       "      <td>-4.4552</td>\n",
       "      <td>4.5718</td>\n",
       "      <td>-0.98880</td>\n",
       "      <td>0</td>\n",
       "    </tr>\n",
       "  </tbody>\n",
       "</table>\n",
       "</div>"
      ],
      "text/plain": [
       "   Varianza  Asimetría  Curtosis  Entropía  Class\n",
       "0   3.62160     8.6661   -2.8073  -0.44699      0\n",
       "1   4.54590     8.1674   -2.4586  -1.46210      0\n",
       "2   3.86600    -2.6383    1.9242   0.10645      0\n",
       "3   3.45660     9.5228   -4.0112  -3.59440      0\n",
       "4   0.32924    -4.4552    4.5718  -0.98880      0"
      ]
     },
     "execution_count": 5,
     "metadata": {},
     "output_type": "execute_result"
    }
   ],
   "source": [
    "#Se asigna la identificación de cada columna, teniendo en cuenta que el último campo corresponde a la autenticidad del billete ('Class)'.\n",
    "colnames=['Varianza','Asimetría','Curtosis','Entropía','Class']\n",
    "\n",
    "bankdata=pd.read_csv(url,names=colnames)\n",
    "bankdata.describe\n",
    "bankdata.head()  #Visualizamos el formato de los primeros 5 datos."
   ]
  },
  {
   "cell_type": "code",
   "execution_count": 6,
   "metadata": {},
   "outputs": [
    {
     "data": {
      "text/html": [
       "<div>\n",
       "<style scoped>\n",
       "    .dataframe tbody tr th:only-of-type {\n",
       "        vertical-align: middle;\n",
       "    }\n",
       "\n",
       "    .dataframe tbody tr th {\n",
       "        vertical-align: top;\n",
       "    }\n",
       "\n",
       "    .dataframe thead th {\n",
       "        text-align: right;\n",
       "    }\n",
       "</style>\n",
       "<table border=\"1\" class=\"dataframe\">\n",
       "  <thead>\n",
       "    <tr style=\"text-align: right;\">\n",
       "      <th></th>\n",
       "      <th>Varianza</th>\n",
       "      <th>Asimetría</th>\n",
       "      <th>Curtosis</th>\n",
       "      <th>Entropía</th>\n",
       "      <th>Class</th>\n",
       "    </tr>\n",
       "  </thead>\n",
       "  <tbody>\n",
       "    <tr>\n",
       "      <td>829</td>\n",
       "      <td>-2.24820</td>\n",
       "      <td>3.09150</td>\n",
       "      <td>-2.39690</td>\n",
       "      <td>-2.671100</td>\n",
       "      <td>1</td>\n",
       "    </tr>\n",
       "    <tr>\n",
       "      <td>499</td>\n",
       "      <td>0.88444</td>\n",
       "      <td>6.59060</td>\n",
       "      <td>0.55837</td>\n",
       "      <td>-0.441820</td>\n",
       "      <td>0</td>\n",
       "    </tr>\n",
       "    <tr>\n",
       "      <td>391</td>\n",
       "      <td>2.12650</td>\n",
       "      <td>6.87830</td>\n",
       "      <td>0.44784</td>\n",
       "      <td>-2.222400</td>\n",
       "      <td>0</td>\n",
       "    </tr>\n",
       "    <tr>\n",
       "      <td>1241</td>\n",
       "      <td>-2.28110</td>\n",
       "      <td>-0.85669</td>\n",
       "      <td>2.71850</td>\n",
       "      <td>0.044382</td>\n",
       "      <td>1</td>\n",
       "    </tr>\n",
       "    <tr>\n",
       "      <td>787</td>\n",
       "      <td>-2.66850</td>\n",
       "      <td>-10.45190</td>\n",
       "      <td>9.11390</td>\n",
       "      <td>-1.732300</td>\n",
       "      <td>1</td>\n",
       "    </tr>\n",
       "  </tbody>\n",
       "</table>\n",
       "</div>"
      ],
      "text/plain": [
       "      Varianza  Asimetría  Curtosis  Entropía  Class\n",
       "829   -2.24820    3.09150  -2.39690 -2.671100      1\n",
       "499    0.88444    6.59060   0.55837 -0.441820      0\n",
       "391    2.12650    6.87830   0.44784 -2.222400      0\n",
       "1241  -2.28110   -0.85669   2.71850  0.044382      1\n",
       "787   -2.66850  -10.45190   9.11390 -1.732300      1"
      ]
     },
     "execution_count": 6,
     "metadata": {},
     "output_type": "execute_result"
    }
   ],
   "source": [
    "# Visualizamos algunos datos en orden aleatorio\n",
    "bankdata.sample(n=5)"
   ]
  },
  {
   "cell_type": "code",
   "execution_count": 6,
   "metadata": {},
   "outputs": [
    {
     "name": "stdout",
     "output_type": "stream",
     "text": [
      "<class 'pandas.core.frame.DataFrame'>\n",
      "RangeIndex: 1372 entries, 0 to 1371\n",
      "Data columns (total 5 columns):\n",
      "Varianza     1372 non-null float64\n",
      "Asimetría    1372 non-null float64\n",
      "Curtosis     1372 non-null float64\n",
      "Entropía     1372 non-null float64\n",
      "Class        1372 non-null int64\n",
      "dtypes: float64(4), int64(1)\n",
      "memory usage: 53.7 KB\n"
     ]
    }
   ],
   "source": [
    "# Tamaño y tipo de datos\n",
    "bankdata.info()"
   ]
  },
  {
   "cell_type": "markdown",
   "metadata": {},
   "source": [
    "Se observa que el tipo de datos que fue identificado de forma automática, es correcto (Float 64 para las variables e int 64 para el tipo de billete ('Class')."
   ]
  },
  {
   "cell_type": "code",
   "execution_count": 65,
   "metadata": {},
   "outputs": [
    {
     "data": {
      "text/html": [
       "<div>\n",
       "<style scoped>\n",
       "    .dataframe tbody tr th:only-of-type {\n",
       "        vertical-align: middle;\n",
       "    }\n",
       "\n",
       "    .dataframe tbody tr th {\n",
       "        vertical-align: top;\n",
       "    }\n",
       "\n",
       "    .dataframe thead th {\n",
       "        text-align: right;\n",
       "    }\n",
       "</style>\n",
       "<table border=\"1\" class=\"dataframe\">\n",
       "  <thead>\n",
       "    <tr style=\"text-align: right;\">\n",
       "      <th></th>\n",
       "      <th>Varianza</th>\n",
       "      <th>Asimetría</th>\n",
       "      <th>Curtosis</th>\n",
       "      <th>Entropía</th>\n",
       "      <th>Class</th>\n",
       "    </tr>\n",
       "  </thead>\n",
       "  <tbody>\n",
       "    <tr>\n",
       "      <td>count</td>\n",
       "      <td>1372.000000</td>\n",
       "      <td>1372.000000</td>\n",
       "      <td>1372.000000</td>\n",
       "      <td>1372.000000</td>\n",
       "      <td>1372.000000</td>\n",
       "    </tr>\n",
       "    <tr>\n",
       "      <td>mean</td>\n",
       "      <td>0.433735</td>\n",
       "      <td>1.922353</td>\n",
       "      <td>1.397627</td>\n",
       "      <td>-1.191657</td>\n",
       "      <td>0.444606</td>\n",
       "    </tr>\n",
       "    <tr>\n",
       "      <td>std</td>\n",
       "      <td>2.842763</td>\n",
       "      <td>5.869047</td>\n",
       "      <td>4.310030</td>\n",
       "      <td>2.101013</td>\n",
       "      <td>0.497103</td>\n",
       "    </tr>\n",
       "    <tr>\n",
       "      <td>min</td>\n",
       "      <td>-7.042100</td>\n",
       "      <td>-13.773100</td>\n",
       "      <td>-5.286100</td>\n",
       "      <td>-8.548200</td>\n",
       "      <td>0.000000</td>\n",
       "    </tr>\n",
       "    <tr>\n",
       "      <td>25%</td>\n",
       "      <td>-1.773000</td>\n",
       "      <td>-1.708200</td>\n",
       "      <td>-1.574975</td>\n",
       "      <td>-2.413450</td>\n",
       "      <td>0.000000</td>\n",
       "    </tr>\n",
       "    <tr>\n",
       "      <td>50%</td>\n",
       "      <td>0.496180</td>\n",
       "      <td>2.319650</td>\n",
       "      <td>0.616630</td>\n",
       "      <td>-0.586650</td>\n",
       "      <td>0.000000</td>\n",
       "    </tr>\n",
       "    <tr>\n",
       "      <td>75%</td>\n",
       "      <td>2.821475</td>\n",
       "      <td>6.814625</td>\n",
       "      <td>3.179250</td>\n",
       "      <td>0.394810</td>\n",
       "      <td>1.000000</td>\n",
       "    </tr>\n",
       "    <tr>\n",
       "      <td>max</td>\n",
       "      <td>6.824800</td>\n",
       "      <td>12.951600</td>\n",
       "      <td>17.927400</td>\n",
       "      <td>2.449500</td>\n",
       "      <td>1.000000</td>\n",
       "    </tr>\n",
       "  </tbody>\n",
       "</table>\n",
       "</div>"
      ],
      "text/plain": [
       "          Varianza    Asimetría     Curtosis     Entropía        Class\n",
       "count  1372.000000  1372.000000  1372.000000  1372.000000  1372.000000\n",
       "mean      0.433735     1.922353     1.397627    -1.191657     0.444606\n",
       "std       2.842763     5.869047     4.310030     2.101013     0.497103\n",
       "min      -7.042100   -13.773100    -5.286100    -8.548200     0.000000\n",
       "25%      -1.773000    -1.708200    -1.574975    -2.413450     0.000000\n",
       "50%       0.496180     2.319650     0.616630    -0.586650     0.000000\n",
       "75%       2.821475     6.814625     3.179250     0.394810     1.000000\n",
       "max       6.824800    12.951600    17.927400     2.449500     1.000000"
      ]
     },
     "execution_count": 65,
     "metadata": {},
     "output_type": "execute_result"
    }
   ],
   "source": [
    "#Se utiliza la función describe para obtener información estadística como media, rango, desvío, etc.\n",
    "bankdata.describe(include='all')"
   ]
  },
  {
   "cell_type": "code",
   "execution_count": 7,
   "metadata": {},
   "outputs": [
    {
     "data": {
      "text/plain": [
       "Varianza     0\n",
       "Asimetría    0\n",
       "Curtosis     0\n",
       "Entropía     0\n",
       "Class        0\n",
       "dtype: int64"
      ]
     },
     "execution_count": 7,
     "metadata": {},
     "output_type": "execute_result"
    }
   ],
   "source": [
    "#Se evalúa si hay algún dato faltante (null)\n",
    "missing_data=bankdata.isnull()\n",
    "missing_data.tail()\n",
    "missing_data.sum(axis=0)"
   ]
  },
  {
   "cell_type": "markdown",
   "metadata": {},
   "source": [
    "Se encuentra que el dataset no contiene valores null."
   ]
  },
  {
   "cell_type": "code",
   "execution_count": 75,
   "metadata": {},
   "outputs": [
    {
     "data": {
      "image/png": "[encoded data removed]",
      "text/plain": [
       "<Figure size 432x288 with 1 Axes>"
      ]
     },
     "metadata": {
      "needs_background": "light"
     },
     "output_type": "display_data"
    },
    {
     "data": {
      "image/png": "[encoded data removed]",
      "text/plain": [
       "<Figure size 432x288 with 1 Axes>"
      ]
     },
     "metadata": {
      "needs_background": "light"
     },
     "output_type": "display_data"
    },
    {
     "data": {
      "image/png": "[encoded data removed]",
      "text/plain": [
       "<Figure size 432x288 with 1 Axes>"
      ]
     },
     "metadata": {
      "needs_background": "light"
     },
     "output_type": "display_data"
    },
    {
     "data": {
      "image/png": "[encoded data removed]",
      "text/plain": [
       "<Figure size 432x288 with 1 Axes>"
      ]
     },
     "metadata": {
      "needs_background": "light"
     },
     "output_type": "display_data"
    }
   ],
   "source": [
    "#Visualizamos con se relaciona cada variable independiente con la variable objetivo:\n",
    "bankdata.plot(kind = 'scatter', x='Varianza', y = 'Class', alpha=0.1)\n",
    "plt.xlabel('# Varianza')\n",
    "plt.ylabel('Clase')\n",
    "plt.show()\n",
    "\n",
    "bankdata.plot(kind = 'scatter', x='Asimetría', y = 'Class', alpha=0.1)\n",
    "plt.xlabel('Asimetría')\n",
    "plt.ylabel('Clase')\n",
    "plt.show()\n",
    "\n",
    "bankdata.plot(kind = 'scatter', x='Curtosis', y = 'Class', alpha=0.1)\n",
    "plt.xlabel('Curtosis')\n",
    "plt.ylabel('Clase')\n",
    "plt.show()\n",
    "\n",
    "bankdata.plot(kind = 'scatter', x='Entropía', y = 'Class', alpha=0.1)\n",
    "plt.xlabel('Asimetría')\n",
    "plt.ylabel('Clase')\n",
    "plt.show()\n"
   ]
  },
  {
   "cell_type": "markdown",
   "metadata": {},
   "source": [
    "A continuación se visualizan en formato de histograma los 4 atributos del dataset, facilitando la visualización de entre qué valores comprenden sus máximos y mínimos, y en qué intervalors concentran la mayor densidad de registros."
   ]
  },
  {
   "cell_type": "code",
   "execution_count": 10,
   "metadata": {},
   "outputs": [
    {
     "data": {
      "image/png": "[encoded data removed]",
      "text/plain": [
       "<Figure size 432x288 with 4 Axes>"
      ]
     },
     "metadata": {
      "needs_background": "light"
     },
     "output_type": "display_data"
    }
   ],
   "source": [
    "bankdata.drop(['Class'],1).hist()\n",
    "plt.show()"
   ]
  },
  {
   "cell_type": "markdown",
   "metadata": {},
   "source": [
    "### Creación del modelo"
   ]
  },
  {
   "cell_type": "code",
   "execution_count": 12,
   "metadata": {},
   "outputs": [
    {
     "data": {
      "text/plain": [
       "(1372, 5)"
      ]
     },
     "execution_count": 12,
     "metadata": {},
     "output_type": "execute_result"
    }
   ],
   "source": [
    "#Confirmamos que el dataset posee la variable de estudio (Class) y los 4 atributos,\n",
    "#debiendo arrojar un resultado de 5 columnas:\n",
    "bankdata.shape"
   ]
  },
  {
   "cell_type": "markdown",
   "metadata": {},
   "source": [
    "Se cargan las variables de las 4 columnas de entrada en el vector X, excluyendo la primer columna Class con el método drop(). Esta columna, que será la variable que deseamos predecir, se cargará en el vector y."
   ]
  },
  {
   "cell_type": "code",
   "execution_count": 8,
   "metadata": {},
   "outputs": [
    {
     "data": {
      "text/plain": [
       "(1372, 4)"
      ]
     },
     "execution_count": 8,
     "metadata": {},
     "output_type": "execute_result"
    }
   ],
   "source": [
    "X=np.array(bankdata.drop(['Class'],1))#Creamos vector con variable dependiente\n",
    "y=np.array(bankdata['Class'])\n",
    "X.shape #Verificamos que el vector X posee 4 columnas."
   ]
  },
  {
   "cell_type": "code",
   "execution_count": 9,
   "metadata": {},
   "outputs": [
    {
     "data": {
      "text/plain": [
       "LogisticRegression(C=1.0, class_weight=None, dual=False, fit_intercept=True,\n",
       "                   intercept_scaling=1, l1_ratio=None, max_iter=100,\n",
       "                   multi_class='warn', n_jobs=None, penalty='l2',\n",
       "                   random_state=None, solver='warn', tol=0.0001, verbose=0,\n",
       "                   warm_start=False)"
      ]
     },
     "execution_count": 9,
     "metadata": {},
     "output_type": "execute_result"
    }
   ],
   "source": [
    "#Importamos el modelo que vamos a utilizar\n",
    "from sklearn.linear_model import LogisticRegression\n",
    "\n",
    "model=LogisticRegression()\n",
    "model.fit(X,y)  #Entrenamos al modelo con nuestro conjuntos total de datos\n"
   ]
  },
  {
   "cell_type": "markdown",
   "metadata": {},
   "source": [
    "Al modelo le hacemos clasificar todo nuestro conjunto de entradas X utilizando el método predict() y revisamos visualmente las salidas. Tal como se observa a continuación, las predicciones coinciden a priori con el resultado real (se encontraban ordenados primero los de clase 0 y luego los de clase 1)."
   ]
  },
  {
   "cell_type": "code",
   "execution_count": 15,
   "metadata": {},
   "outputs": [
    {
     "name": "stdout",
     "output_type": "stream",
     "text": [
      "[0 0 0 ... 1 1 1]\n"
     ]
    }
   ],
   "source": [
    "predictions=model.predict(X)\n",
    "print(predictions)"
   ]
  },
  {
   "cell_type": "code",
   "execution_count": 16,
   "metadata": {},
   "outputs": [
    {
     "data": {
      "text/plain": [
       "0.9905247813411079"
      ]
     },
     "execution_count": 16,
     "metadata": {},
     "output_type": "execute_result"
    }
   ],
   "source": [
    "#Confirmamos cuan bueno fue el modelo con model.score() que devuelve la precisión media de las predicciones.\n",
    "model.score(X,y)"
   ]
  },
  {
   "cell_type": "markdown",
   "metadata": {},
   "source": [
    "Se obtuvo una precisión media de 99,05%. Sin embargo, para objtener mejor garantía del modelo generado, se verá a continuación como validar el modelo a través de dividir el conjunto de datos en un grupo de entrenamiento y otro de test."
   ]
  },
  {
   "cell_type": "markdown",
   "metadata": {},
   "source": [
    "## 3- Evaluación de los resultados - Validación del modelo "
   ]
  },
  {
   "cell_type": "code",
   "execution_count": 10,
   "metadata": {},
   "outputs": [],
   "source": [
    "# creamos un vector con la variable objetivo\n",
    "target_var = 'Class'\n",
    "y = bankdata[target_var].values.copy()\n",
    "\n",
    "feature_vars = ['Varianza','Asimetría','Curtosis','Entropía']\n",
    "\n",
    "# creamos la matriz de variables independientes\n",
    "X = bankdata[feature_vars].values.copy()\n"
   ]
  },
  {
   "cell_type": "code",
   "execution_count": 11,
   "metadata": {},
   "outputs": [
    {
     "data": {
      "text/plain": [
       "(1097, 4)"
      ]
     },
     "execution_count": 11,
     "metadata": {},
     "output_type": "execute_result"
    }
   ],
   "source": [
    "# Se importa la función para dividir el conjunto de datos\n",
    "from sklearn.model_selection import train_test_split\n",
    "\n",
    "# Se separan los datos en conjunto de entrenamiento (80% de los datos) y conjunto de test (20% de los datos)\n",
    "X_train, X_test, y_train, y_test = train_test_split(X, y, test_size=0.2, random_state=22) # Se fija un estado aleatorio para garantizar la reproducibilidad de los resultados\n",
    "\n",
    "\n",
    "X_train.shape  #Se verifica el tamaño resultante, debiendo ser 80% de 1372.\n"
   ]
  },
  {
   "cell_type": "markdown",
   "metadata": {},
   "source": [
    "A continuación se evalúa cómo se ajusta el modelo en ambos conjuntos de datos (entrenamiento y test):"
   ]
  },
  {
   "cell_type": "code",
   "execution_count": 12,
   "metadata": {},
   "outputs": [
    {
     "name": "stdout",
     "output_type": "stream",
     "text": [
      "[[-3.04065656 -1.69978599 -2.0550756  -0.11917814]]\n",
      "[-3.04065656 -1.69978599 -2.0550756  -0.11917814]\n",
      "['Varianza', 'Asimetría', 'Curtosis', 'Entropía']\n"
     ]
    },
    {
     "data": {
      "text/plain": [
       "Varianza    -3.040657\n",
       "Asimetría   -1.699786\n",
       "Curtosis    -2.055076\n",
       "Entropía    -0.119178\n",
       "dtype: float64"
      ]
     },
     "execution_count": 12,
     "metadata": {},
     "output_type": "execute_result"
    }
   ],
   "source": [
    "# Se ajusta el modelo a los datos de entrenamiento\n",
    "model.fit(X_train, y_train)\n",
    "\n",
    "cf=model.coef_\n",
    "print(cf)\n",
    "print(cf[0,:])\n",
    "print(feature_vars)\n",
    "\n",
    "pd.Series(cf[0,:], index=feature_vars) # Se visualizan los coeficientes obtenidos para cada variable (los parámetros del modelo)."
   ]
  },
  {
   "cell_type": "code",
   "execution_count": 13,
   "metadata": {},
   "outputs": [
    {
     "name": "stdout",
     "output_type": "stream",
     "text": [
      "Métrica R2 en entrenamiento: 0.9872379216043756\n",
      "Métrica R2 en test: 0.9927272727272727\n"
     ]
    }
   ],
   "source": [
    "#Validamos\n",
    "print('Métrica R2 en entrenamiento:', model.score(X_train, y_train))\n",
    "print('Métrica R2 en test:', model.score(X_test, y_test))"
   ]
  },
  {
   "cell_type": "markdown",
   "metadata": {},
   "source": [
    "Se observa que el modelo se ajusta de forma similar en el conjunto de datos de test (99,27%) y en el de entrenamiento (98,72%).\n",
    "\n",
    "Para confirmar que es confiable este resultado, se utilizará la validación cruzada K-fold, en donde se repite el procedimiento varias veces generando diferentes conjuntos de entrenamiento y test (4 en este caso).\n"
   ]
  },
  {
   "cell_type": "code",
   "execution_count": 14,
   "metadata": {},
   "outputs": [
    {
     "data": {
      "text/plain": [
       "{'fit_time': array([0.        , 0.01659989, 0.00199986, 0.00199986]),\n",
       " 'score_time': array([0.        , 0.00100017, 0.00099993, 0.00100017]),\n",
       " 'estimator': (LogisticRegression(C=1.0, class_weight=None, dual=False, fit_intercept=True,\n",
       "                     intercept_scaling=1, l1_ratio=None, max_iter=100,\n",
       "                     multi_class='warn', n_jobs=None, penalty='l2',\n",
       "                     random_state=None, solver='warn', tol=0.0001, verbose=0,\n",
       "                     warm_start=False),\n",
       "  LogisticRegression(C=1.0, class_weight=None, dual=False, fit_intercept=True,\n",
       "                     intercept_scaling=1, l1_ratio=None, max_iter=100,\n",
       "                     multi_class='warn', n_jobs=None, penalty='l2',\n",
       "                     random_state=None, solver='warn', tol=0.0001, verbose=0,\n",
       "                     warm_start=False),\n",
       "  LogisticRegression(C=1.0, class_weight=None, dual=False, fit_intercept=True,\n",
       "                     intercept_scaling=1, l1_ratio=None, max_iter=100,\n",
       "                     multi_class='warn', n_jobs=None, penalty='l2',\n",
       "                     random_state=None, solver='warn', tol=0.0001, verbose=0,\n",
       "                     warm_start=False),\n",
       "  LogisticRegression(C=1.0, class_weight=None, dual=False, fit_intercept=True,\n",
       "                     intercept_scaling=1, l1_ratio=None, max_iter=100,\n",
       "                     multi_class='warn', n_jobs=None, penalty='l2',\n",
       "                     random_state=None, solver='warn', tol=0.0001, verbose=0,\n",
       "                     warm_start=False)),\n",
       " 'test_neg_mean_squared_error': array([-0.00872093, -0.01744186, -0.00584795, -0.00877193]),\n",
       " 'train_neg_mean_squared_error': array([-0.00972763, -0.00680934, -0.01359223, -0.00970874]),\n",
       " 'test_r2': array([0.96468535, 0.9293707 , 0.97631579, 0.96447368]),\n",
       " 'train_r2': array([0.96060503, 0.97242352, 0.94495679, 0.96068342])}"
      ]
     },
     "execution_count": 14,
     "metadata": {},
     "output_type": "execute_result"
    }
   ],
   "source": [
    "# Importamos el cross_validate\n",
    "from sklearn.model_selection import cross_validate\n",
    "\n",
    "n_folds = 4 # Se realiza la validación cruzada K-fold en el número especificado (4)\n",
    "\n",
    "scoring = ['neg_mean_squared_error', 'r2']\n",
    "cv_results = cross_validate(model, X, y, cv=n_folds, return_train_score=True, return_estimator=True, scoring=scoring)\n",
    "cv_results"
   ]
  },
  {
   "cell_type": "markdown",
   "metadata": {},
   "source": [
    "Se observa que el modelo se ajusta bien y de forma similar en los conjuntos de entrenamiento y de test en cada uno de los folds. El modelo está generalizando bien.\n"
   ]
  },
  {
   "cell_type": "markdown",
   "metadata": {},
   "source": [
    "## 5- Parámetros del modelo\n",
    "\n",
    "\n",
    "Se trata de un método paramétrico porque el modelo tiene un conjunto limitado de parámetros, que dependerá de la cantidad de variables que incorpore el modelo:\n"
   ]
  },
  {
   "cell_type": "markdown",
   "metadata": {},
   "source": [
    "$$ p = 1 / (1 + e^-(y=w_0 + w_1x_1 + w_2 x_2  + \\ldots + w_m x_M)) $$\n",
    "\n",
    "En donde los parámetros están dados por:\n",
    "\n",
    "$$ w_0 , w_1 ... w_n $$\n"
   ]
  },
  {
   "cell_type": "markdown",
   "metadata": {},
   "source": [
    "Tal como se mencionó anteriormente durante la creación y ajuste del modelo, los parámetros obtenidos son los siguientes:"
   ]
  },
  {
   "cell_type": "code",
   "execution_count": 15,
   "metadata": {},
   "outputs": [
    {
     "name": "stdout",
     "output_type": "stream",
     "text": [
      "[3.00973948]\n"
     ]
    },
    {
     "data": {
      "text/plain": [
       "Varianza    -3.040657\n",
       "Asimetría   -1.699786\n",
       "Curtosis    -2.055076\n",
       "Entropía    -0.119178\n",
       "dtype: float64"
      ]
     },
     "execution_count": 15,
     "metadata": {},
     "output_type": "execute_result"
    }
   ],
   "source": [
    "model.fit(X_train, y_train)  #ajuste del modelo\n",
    "\n",
    "cf=model.coef_  #coeficientes del modelo\n",
    "print(model.intercept_)\n",
    "pd.Series(cf[0,:], index=feature_vars)"
   ]
  },
  {
   "cell_type": "markdown",
   "metadata": {},
   "source": [
    "Los parámetros son:$$ w_0= 3.009, w_1=-3.04, w_2=-1.699, w_3= -2.05, w_4=-0,12 $$ "
   ]
  },
  {
   "cell_type": "markdown",
   "metadata": {},
   "source": [
    "## 6 - Hiperparámetros del modelo"
   ]
  },
  {
   "cell_type": "markdown",
   "metadata": {},
   "source": [
    "La función de coste a minimizar en la regresión logística es de la forma:\n",
    "\n",
    "$$J(\\boldsymbol{\\omega}) = \\sum_{i=1}^N \\log{\\left(1+ e^{-y^{(i)}\\boldsymbol{\\omega}^T\\mathbf{x}^{(i)}}\\right)}$$\n",
    "\n",
    "donde $y^{(i)} \\in \\{-1, 1\\}$. En su versión \"regularizada\", la función de coste pasa a ser:\n",
    "\n",
    "$$J(\\boldsymbol{\\omega}) = \\frac{1}{2}||\\boldsymbol{\\omega}||_2^2 + C \\sum_{i=1}^N \\log{\\left(1+ e^{-y^{(i)}\\boldsymbol{\\omega}^T\\mathbf{x}^{(i)}}\\right)}$$\n",
    "\n",
    "El **coste $C$** es el **hiperparámetro** libre que permite controlar la complejidad del algoritmo, penalizando los errores que se comenten en clasificación. Este parámetro supone un compromiso entre la exactitud de la solución y la complejidad del algoritmo. \n",
    "\n",
    "El valor por defecto en scikit-learn es C= 1. Cuanto mayor es C, más se penalizan los errores. Cuanto menor es C, menos se penalizan.\n"
   ]
  },
  {
   "cell_type": "code",
   "execution_count": 16,
   "metadata": {},
   "outputs": [
    {
     "name": "stdout",
     "output_type": "stream",
     "text": [
      "training set score: 0.987238\n",
      "\n",
      "test set score: 0.992727\n",
      "\n",
      "training set score of lgr100: 0.990884\n",
      "\n",
      "test set score of lgr100: 0.992727\n",
      "\n",
      "training set score of lgr001: 0.971741\n",
      "\n",
      "test set score of lgr001: 0.989091\n"
     ]
    }
   ],
   "source": [
    "\n",
    "######default C=1#####\n",
    "model1=LogisticRegression().fit(X_train,y_train)\n",
    "print(\"training set score: %f\" % model1.score(X_train, y_train))\n",
    "print('\\n'\"test set score: %f\" % model1.score(X_test, y_test))\n",
    " \n",
    "######increase C to 100#####\n",
    "model100=LogisticRegression(C=100).fit(X_train,y_train)\n",
    "print('\\n'\"training set score of lgr100: %f\" % model100.score(X_train, y_train))\n",
    "print('\\n'\"test set score of lgr100: %f\" % model100.score(X_test, y_test))\n",
    " \n",
    "######decrease C to 0.01#####\n",
    "model001=LogisticRegression(C=0.01).fit(X_train,y_train)\n",
    "print('\\n'\"training set score of lgr001: %f\" % model001.score(X_train, y_train))\n",
    "print('\\n'\"test set score of lgr001: %f\" % model001.score(X_test, y_test))\n",
    " "
   ]
  },
  {
   "cell_type": "markdown",
   "metadata": {},
   "source": [
    "Se aprecia que al ser mayor el C (C=100), más se penalizan los errores y se obtiene un R2 mayor, ajustándose mejor el modelo: 0,99.\n",
    "    \n",
    "Por el contrario, en la medida que disminuye C, los errores se penalizan menos y disminuye el ajuste del mismo."
   ]
  },
  {
   "cell_type": "markdown",
   "metadata": {},
   "source": [
    "### Valor óptimo de C"
   ]
  },
  {
   "cell_type": "markdown",
   "metadata": {},
   "source": [
    "Se calcula el valor óptimo de C:"
   ]
  },
  {
   "cell_type": "code",
   "execution_count": 17,
   "metadata": {},
   "outputs": [
    {
     "name": "stdout",
     "output_type": "stream",
     "text": [
      "best mean cross-validation score: 0.958\n",
      "best parameters: {'C': 23.357214690901213}\n",
      "test-set score: 0.96\n"
     ]
    },
    {
     "data": {
      "image/png": "[encoded data removed]",
      "text/plain": [
       "<Figure size 432x288 with 1 Axes>"
      ]
     },
     "metadata": {
      "needs_background": "light"
     },
     "output_type": "display_data"
    }
   ],
   "source": [
    "from sklearn.model_selection import GridSearchCV\n",
    "\n",
    "#poly     = PolynomialFeatures(2)\n",
    "#X3poly   = poly.fit_transform(X3)\n",
    "#X_train, X_test, y_train, y_test = train_test_split(X3poly, y3, test_size=0.3, shuffle=True, random_state=0)\n",
    "\n",
    "vectorC = np.logspace(-10, 2, 20)\n",
    "param_grid = {'C': vectorC}\n",
    "grid = GridSearchCV(LogisticRegression(fit_intercept=False), scoring='accuracy', param_grid=param_grid, cv=5)\n",
    "grid.fit(X_train, y_train)\n",
    "print(\"best mean cross-validation score: {:.3f}\".format(grid.best_score_))\n",
    "print(\"best parameters: {}\".format(grid.best_params_))\n",
    "print(\"test-set score: {:.2f}\".format(grid.score(X_test, y_test)))\n",
    "\n",
    "scores = np.array(grid.cv_results_['mean_test_score'])\n",
    "plt.semilogx(vectorC, scores, '-o')\n",
    "plt.xlabel('C')\n",
    "plt.ylabel('5-Fold ACC')\n",
    "plt.show()"
   ]
  },
  {
   "cell_type": "markdown",
   "metadata": {},
   "source": [
    "## 7- Escalado de variables"
   ]
  },
  {
   "cell_type": "markdown",
   "metadata": {},
   "source": [
    "Volvemos a realizar bankdata.describe() para analizar rango de variación de cada variable:"
   ]
  },
  {
   "cell_type": "code",
   "execution_count": 9,
   "metadata": {},
   "outputs": [
    {
     "data": {
      "text/html": [
       "<div>\n",
       "<style scoped>\n",
       "    .dataframe tbody tr th:only-of-type {\n",
       "        vertical-align: middle;\n",
       "    }\n",
       "\n",
       "    .dataframe tbody tr th {\n",
       "        vertical-align: top;\n",
       "    }\n",
       "\n",
       "    .dataframe thead th {\n",
       "        text-align: right;\n",
       "    }\n",
       "</style>\n",
       "<table border=\"1\" class=\"dataframe\">\n",
       "  <thead>\n",
       "    <tr style=\"text-align: right;\">\n",
       "      <th></th>\n",
       "      <th>Varianza</th>\n",
       "      <th>Asimetría</th>\n",
       "      <th>Curtosis</th>\n",
       "      <th>Entropía</th>\n",
       "      <th>Class</th>\n",
       "    </tr>\n",
       "  </thead>\n",
       "  <tbody>\n",
       "    <tr>\n",
       "      <td>count</td>\n",
       "      <td>1372.000000</td>\n",
       "      <td>1372.000000</td>\n",
       "      <td>1372.000000</td>\n",
       "      <td>1372.000000</td>\n",
       "      <td>1372.000000</td>\n",
       "    </tr>\n",
       "    <tr>\n",
       "      <td>mean</td>\n",
       "      <td>0.433735</td>\n",
       "      <td>1.922353</td>\n",
       "      <td>1.397627</td>\n",
       "      <td>-1.191657</td>\n",
       "      <td>0.444606</td>\n",
       "    </tr>\n",
       "    <tr>\n",
       "      <td>std</td>\n",
       "      <td>2.842763</td>\n",
       "      <td>5.869047</td>\n",
       "      <td>4.310030</td>\n",
       "      <td>2.101013</td>\n",
       "      <td>0.497103</td>\n",
       "    </tr>\n",
       "    <tr>\n",
       "      <td>min</td>\n",
       "      <td>-7.042100</td>\n",
       "      <td>-13.773100</td>\n",
       "      <td>-5.286100</td>\n",
       "      <td>-8.548200</td>\n",
       "      <td>0.000000</td>\n",
       "    </tr>\n",
       "    <tr>\n",
       "      <td>25%</td>\n",
       "      <td>-1.773000</td>\n",
       "      <td>-1.708200</td>\n",
       "      <td>-1.574975</td>\n",
       "      <td>-2.413450</td>\n",
       "      <td>0.000000</td>\n",
       "    </tr>\n",
       "    <tr>\n",
       "      <td>50%</td>\n",
       "      <td>0.496180</td>\n",
       "      <td>2.319650</td>\n",
       "      <td>0.616630</td>\n",
       "      <td>-0.586650</td>\n",
       "      <td>0.000000</td>\n",
       "    </tr>\n",
       "    <tr>\n",
       "      <td>75%</td>\n",
       "      <td>2.821475</td>\n",
       "      <td>6.814625</td>\n",
       "      <td>3.179250</td>\n",
       "      <td>0.394810</td>\n",
       "      <td>1.000000</td>\n",
       "    </tr>\n",
       "    <tr>\n",
       "      <td>max</td>\n",
       "      <td>6.824800</td>\n",
       "      <td>12.951600</td>\n",
       "      <td>17.927400</td>\n",
       "      <td>2.449500</td>\n",
       "      <td>1.000000</td>\n",
       "    </tr>\n",
       "  </tbody>\n",
       "</table>\n",
       "</div>"
      ],
      "text/plain": [
       "          Varianza    Asimetría     Curtosis     Entropía        Class\n",
       "count  1372.000000  1372.000000  1372.000000  1372.000000  1372.000000\n",
       "mean      0.433735     1.922353     1.397627    -1.191657     0.444606\n",
       "std       2.842763     5.869047     4.310030     2.101013     0.497103\n",
       "min      -7.042100   -13.773100    -5.286100    -8.548200     0.000000\n",
       "25%      -1.773000    -1.708200    -1.574975    -2.413450     0.000000\n",
       "50%       0.496180     2.319650     0.616630    -0.586650     0.000000\n",
       "75%       2.821475     6.814625     3.179250     0.394810     1.000000\n",
       "max       6.824800    12.951600    17.927400     2.449500     1.000000"
      ]
     },
     "execution_count": 9,
     "metadata": {},
     "output_type": "execute_result"
    }
   ],
   "source": [
    "bankdata.describe()"
   ]
  },
  {
   "cell_type": "markdown",
   "metadata": {},
   "source": [
    "Se observa que el rango de variación es muy similar entre cada variable, por lo que no debería encontrarse una variación significativa al realizar un escalado sobre estos datos. Lo verificaremos:"
   ]
  },
  {
   "cell_type": "code",
   "execution_count": 24,
   "metadata": {},
   "outputs": [
    {
     "name": "stdout",
     "output_type": "stream",
     "text": [
      "Métrica R2 en entrenamiento: 0.9772105742935278\n",
      "Métrica R2 en test: 0.9963636363636363\n"
     ]
    }
   ],
   "source": [
    "from sklearn.preprocessing import StandardScaler\n",
    "\n",
    "scaler = StandardScaler();\n",
    "X_train_scaled = scaler.fit_transform(X_train)\n",
    "X_test_scaled = scaler.transform(X_test)\n",
    "\n",
    "model.fit(X_train_scaled, y_train)\n",
    "\n",
    "print('Métrica R2 en entrenamiento:', model.score(X_train_scaled, y_train))\n",
    "print('Métrica R2 en test:', model.score(X_test_scaled, y_test))"
   ]
  },
  {
   "cell_type": "markdown",
   "metadata": {},
   "source": [
    "Los valores de R2 obtenidos son prácticamente iguales que los que se obtienen sin el escalado:"
   ]
  },
  {
   "cell_type": "markdown",
   "metadata": {},
   "source": [
    "\n",
    "Métrica R2 en entrenamiento: 0.9872379216043756\n",
    "\n",
    "Métrica R2 en test: 0.9927272727272727\n",
    "\n",
    "Lo que significa que el algoritmo es **invariante a la escala**. \n",
    "\n",
    "Se calculan a continuación los coeficientes:\n"
   ]
  },
  {
   "cell_type": "code",
   "execution_count": 18,
   "metadata": {},
   "outputs": [
    {
     "data": {
      "text/plain": [
       "Varianza    -3.040657\n",
       "Asimetría   -1.699786\n",
       "Curtosis    -2.055076\n",
       "Entropía    -0.119178\n",
       "dtype: float64"
      ]
     },
     "execution_count": 18,
     "metadata": {},
     "output_type": "execute_result"
    }
   ],
   "source": [
    "cf=model.coef_\n",
    "pd.Series(cf[0,:], index=feature_vars)"
   ]
  },
  {
   "cell_type": "markdown",
   "metadata": {},
   "source": [
    "Se encuentra que los coeficientes han cambiado ligeramente tras absorber las diferencias de escala, ahora nos dan una mejor idea  de la importancia relativa entre las variables:"
   ]
  },
  {
   "cell_type": "code",
   "execution_count": 33,
   "metadata": {},
   "outputs": [
    {
     "data": {
      "image/png": "[encoded data removed]",
      "text/plain": [
       "<Figure size 432x288 with 1 Axes>"
      ]
     },
     "metadata": {
      "needs_background": "light"
     },
     "output_type": "display_data"
    }
   ],
   "source": [
    "pd.Series(cf[0,:], index=feature_vars).plot.bar();"
   ]
  },
  {
   "cell_type": "markdown",
   "metadata": {},
   "source": [
    "## 8 - Métrica de bondad que optimiza el algoritmo\n"
   ]
  },
  {
   "cell_type": "markdown",
   "metadata": {},
   "source": [
    "Por dejecto, el algoritmo utiliza el $R^2$ como métrica de bondad.\n",
    "Pueden utilizarse otras métricas. En scikit-learn se encuentra una descripción más detallada de cada una de ellas:\n",
    "\n",
    "https://scikit-learn.org/stable/modules/classes.html?highlight=metrics#module-sklearn.metrics\n"
   ]
  },
  {
   "cell_type": "markdown",
   "metadata": {},
   "source": [
    "## 9 - Incertidumbre de la solución"
   ]
  },
  {
   "cell_type": "markdown",
   "metadata": {},
   "source": [
    "A través del cálculo del p-value podría valorarse la incertidumbre de la solución.\n",
    "el mismo puede calcularse con el stats model package:"
   ]
  },
  {
   "cell_type": "code",
   "execution_count": 19,
   "metadata": {},
   "outputs": [
    {
     "name": "stdout",
     "output_type": "stream",
     "text": [
      "                            OLS Regression Results                            \n",
      "==============================================================================\n",
      "Dep. Variable:                      y   R-squared:                       0.865\n",
      "Model:                            OLS   Adj. R-squared:                  0.864\n",
      "Method:                 Least Squares   F-statistic:                     2187.\n",
      "Date:                Fri, 14 Feb 2020   Prob (F-statistic):               0.00\n",
      "Time:                        10:26:10   Log-Likelihood:                 385.64\n",
      "No. Observations:                1372   AIC:                            -761.3\n",
      "Df Residuals:                    1367   BIC:                            -735.2\n",
      "Df Model:                           4                                         \n",
      "Covariance Type:            nonrobust                                         \n",
      "==============================================================================\n",
      "                 coef    std err          t      P>|t|      [0.025      0.975]\n",
      "------------------------------------------------------------------------------\n",
      "const          0.7980      0.008    103.927      0.000       0.783       0.813\n",
      "x1            -0.1426      0.002    -66.276      0.000      -0.147      -0.138\n",
      "x2            -0.0783      0.002    -49.665      0.000      -0.081      -0.075\n",
      "x3            -0.1016      0.002    -52.270      0.000      -0.105      -0.098\n",
      "x4            -0.0008      0.003     -0.248      0.804      -0.007       0.006\n",
      "==============================================================================\n",
      "Omnibus:                      192.366   Durbin-Watson:                   1.480\n",
      "Prob(Omnibus):                  0.000   Jarque-Bera (JB):              348.161\n",
      "Skew:                          -0.882   Prob(JB):                     2.50e-76\n",
      "Kurtosis:                       4.725   Cond. No.                         11.5\n",
      "==============================================================================\n",
      "\n",
      "Warnings:\n",
      "[1] Standard Errors assume that the covariance matrix of the errors is correctly specified.\n"
     ]
    }
   ],
   "source": [
    "\n",
    "import statsmodels.api as sm\n",
    "from scipy import stats\n",
    "\n",
    "X2 = sm.add_constant(X)\n",
    "est = sm.OLS(y, X2)\n",
    "est2 = est.fit()\n",
    "print(est2.summary())"
   ]
  },
  {
   "cell_type": "markdown",
   "metadata": {},
   "source": [
    "## 10 - Importancia relativa de las variables"
   ]
  },
  {
   "cell_type": "markdown",
   "metadata": {},
   "source": [
    "Sí, es posible deducir cuáles son las características más relevantes para el funcionamiento. Para ello se debe aplicar un método de filtrado para un problema de clasificación, como el que se presenta en este trabajo."
   ]
  },
  {
   "cell_type": "code",
   "execution_count": 20,
   "metadata": {},
   "outputs": [
    {
     "data": {
      "image/png": "[encoded data removed]",
      "text/plain": [
       "<Figure size 720x360 with 2 Axes>"
      ]
     },
     "metadata": {
      "needs_background": "light"
     },
     "output_type": "display_data"
    }
   ],
   "source": [
    "from sklearn.feature_selection import f_regression, mutual_info_regression\n",
    "from sklearn.feature_selection import f_classif, mutual_info_classif\n",
    "\n",
    "featureNames = ['x1','x2','x3','x4']\n",
    "\n",
    "# do calculations\n",
    "f_test, _ = f_classif(X, y)\n",
    "#f_test /= np.max(f_test)\n",
    "\n",
    "mi = mutual_info_regression(X, y)\n",
    "#mi /= np.max(mi)\n",
    "\n",
    "# do some plotting\n",
    "plt.figure(figsize=(10, 5))\n",
    "\n",
    "plt.subplot(1,2,1)\n",
    "plt.bar(range(X.shape[1]), f_test,  align=\"center\")\n",
    "plt.xticks(range(X.shape[1]), featureNames)\n",
    "plt.xlabel('features')\n",
    "plt.ylabel('Ranking')\n",
    "plt.title('$F-test$ score')\n",
    "\n",
    "\n",
    "plt.subplot(1,2,2)\n",
    "plt.bar(range(X.shape[1]),mi,  align=\"center\")\n",
    "plt.xticks(range(X.shape[1]),featureNames)\n",
    "plt.xlabel('features')\n",
    "plt.ylabel('Ranking')\n",
    "plt.title('Mutual information score')\n",
    "\n",
    "plt.show()"
   ]
  },
  {
   "cell_type": "markdown",
   "metadata": {},
   "source": [
    "Se observa que la varianza y la asimetría son las características más relevantes delm modelo."
   ]
  }
 ],
 "metadata": {
  "kernelspec": {
   "display_name": "Python 3",
   "language": "python",
   "name": "python3"
  },
  "language_info": {
   "codemirror_mode": {
    "name": "ipython",
    "version": 3
   },
   "file_extension": ".py",
   "mimetype": "text/x-python",
   "name": "python",
   "nbconvert_exporter": "python",
   "pygments_lexer": "ipython3",
   "version": "3.7.4"
  }
 },
 "nbformat": 4,
 "nbformat_minor": 2
}
