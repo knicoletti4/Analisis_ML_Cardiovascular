{
 "cells": [
  {
   "cell_type": "markdown",
   "metadata": {
    "colab_type": "text",
    "id": "3Hw4ZC2V0ngA"
   },
   "source": [
    "# Predicción de imágenes con redes neuronales\n",
    "\n",
    "---\n",
    "\n",
    "## Karina Gisele Nioletti"
   ]
  },
  {
   "cell_type": "markdown",
   "metadata": {
    "colab_type": "text",
    "id": "RFPcZaxF8anQ"
   },
   "source": [
    "### Preparación del entorno, importación de la biblioteca keras y descarga del dataset MNiST\n"
   ]
  },
  {
   "cell_type": "code",
   "execution_count": 0,
   "metadata": {
    "colab": {},
    "colab_type": "code",
    "id": "Y8-oz5in7kQu"
   },
   "outputs": [],
   "source": [
    "%tensorflow_version 2.x "
   ]
  },
  {
   "cell_type": "code",
   "execution_count": 0,
   "metadata": {
    "colab": {},
    "colab_type": "code",
    "id": "-HQcxvG18a6A"
   },
   "outputs": [],
   "source": [
    "import tensorflow.keras as keras  #importar la biblioteca keras, una red neuronal sencilla\n"
   ]
  },
  {
   "cell_type": "code",
   "execution_count": 0,
   "metadata": {
    "colab": {
     "base_uri": "https://localhost:8080/",
     "height": 69
    },
    "colab_type": "code",
    "id": "A3W04zTN8uXH",
    "outputId": "1cc5211d-1c76-4953-b7a9-8ce3778ac4cf"
   },
   "outputs": [
    {
     "name": "stderr",
     "output_type": "stream",
     "text": [
      "Using TensorFlow backend.\n"
     ]
    },
    {
     "name": "stdout",
     "output_type": "stream",
     "text": [
      "Downloading data from https://www.cs.toronto.edu/~kriz/cifar-10-python.tar.gz\n",
      "170500096/170498071 [==============================] - 2s 0us/step\n"
     ]
    }
   ],
   "source": [
    "from keras.datasets import cifar10\n",
    "\n",
    "(x_train,y_train),(x_test,y_test)=cifar10.load_data()"
   ]
  },
  {
   "cell_type": "markdown",
   "metadata": {
    "colab_type": "text",
    "id": "gV3-4Fj18xfk"
   },
   "source": [
    "**Dimensión de los datos**\n",
    "\n"
   ]
  },
  {
   "cell_type": "code",
   "execution_count": 0,
   "metadata": {
    "colab": {
     "base_uri": "https://localhost:8080/",
     "height": 86
    },
    "colab_type": "code",
    "id": "mTgdl7u69F2z",
    "outputId": "c130451b-5345-4963-95fc-ce93f3380fcd"
   },
   "outputs": [
    {
     "name": "stdout",
     "output_type": "stream",
     "text": [
      "La dimensión del conjunto de datos de entrada (x) es: 4\n",
      "La dimensión del conjunto de datos de salida (y) es: 2\n",
      "(50000, 32, 32, 3)\n",
      "(50000, 1)\n"
     ]
    }
   ],
   "source": [
    "print('La dimensión del conjunto de datos de entrada (x) es:',x_train.ndim)\n",
    "print('La dimensión del conjunto de datos de salida (y) es:',y_train.ndim)\n",
    "print(x_train.shape)\n",
    "print(y_train.shape)\n"
   ]
  },
  {
   "cell_type": "markdown",
   "metadata": {
    "colab_type": "text",
    "id": "eexoP0A79C2L"
   },
   "source": [
    "**Tipo de datos**"
   ]
  },
  {
   "cell_type": "code",
   "execution_count": 0,
   "metadata": {
    "colab": {
     "base_uri": "https://localhost:8080/",
     "height": 86
    },
    "colab_type": "code",
    "id": "hRxcx-Dx6G4W",
    "outputId": "eb1c1af1-2fc3-4a49-b8f9-475f0a2d4eb8"
   },
   "outputs": [
    {
     "name": "stdout",
     "output_type": "stream",
     "text": [
      "El tipo de datos de x_train es: uint8\n",
      "El tipo de datos de y_train es: uint8\n",
      "El tipo de datos de x_test es: uint8\n",
      "El tipo de datos de y_test es: int64\n"
     ]
    }
   ],
   "source": [
    "print('El tipo de datos de x_train es:',x_train.dtype)\n",
    "print('El tipo de datos de y_train es:',y_train.dtype)\n",
    "print('El tipo de datos de x_test es:',x_test.dtype)\n",
    "print('El tipo de datos de y_test es:',y_test.dtype)"
   ]
  },
  {
   "cell_type": "markdown",
   "metadata": {
    "colab_type": "text",
    "id": "PsMfIGLA-Cu6"
   },
   "source": [
    "**Rango de valores**"
   ]
  },
  {
   "cell_type": "code",
   "execution_count": 0,
   "metadata": {
    "colab": {
     "base_uri": "https://localhost:8080/",
     "height": 86
    },
    "colab_type": "code",
    "id": "2tmQYqVs_x-o",
    "outputId": "8d17010d-b8ed-4f97-e56e-91b9e41425d5"
   },
   "outputs": [
    {
     "name": "stdout",
     "output_type": "stream",
     "text": [
      "El mínimo valor de las imágenes de entrada es: 0\n",
      "El máximo valor de las imágenes entrada es: 255\n",
      "El mínimo valor de la etiqueta de salida es: 0\n",
      "El máximo valor de la etiqueta de salida es: 9\n"
     ]
    }
   ],
   "source": [
    "print('El mínimo valor de las imágenes de entrada es:', x_train.min())\n",
    "print('El máximo valor de las imágenes entrada es:', x_train.max())\n",
    "print ('El mínimo valor de la etiqueta de salida es:',y_train.min())\n",
    "print ('El máximo valor de la etiqueta de salida es:',y_train.max())"
   ]
  },
  {
   "cell_type": "markdown",
   "metadata": {
    "colab_type": "text",
    "id": "Ku-BoQ0WBoYv"
   },
   "source": [
    "**Cambiar a float**\n",
    "\n",
    "\n"
   ]
  },
  {
   "cell_type": "code",
   "execution_count": 0,
   "metadata": {
    "colab": {},
    "colab_type": "code",
    "id": "R21GfbHgBnf2"
   },
   "outputs": [],
   "source": [
    "import numpy as np\n",
    "x_train=x_train.astype(np.float32)\n",
    "y_train=y_train.astype(np.float32)\n",
    "\n",
    "x_test=x_test.astype(np.float32)\n",
    "y_test=y_test.astype(np.float32)"
   ]
  },
  {
   "cell_type": "code",
   "execution_count": 0,
   "metadata": {
    "colab": {
     "base_uri": "https://localhost:8080/",
     "height": 86
    },
    "colab_type": "code",
    "id": "jek6OVwiB26a",
    "outputId": "5e490e2e-9468-4e0d-92d1-d72099ec8945"
   },
   "outputs": [
    {
     "name": "stdout",
     "output_type": "stream",
     "text": [
      "float32\n",
      "float32\n",
      "float32\n",
      "float32\n"
     ]
    }
   ],
   "source": [
    "print(x_train.dtype)\n",
    "print(y_train.dtype)\n",
    "print(x_test.dtype)\n",
    "print(y_test.dtype)"
   ]
  },
  {
   "cell_type": "markdown",
   "metadata": {
    "colab_type": "text",
    "id": "qn7AVjXpD4fD"
   },
   "source": [
    "**Normalizar**"
   ]
  },
  {
   "cell_type": "code",
   "execution_count": 0,
   "metadata": {
    "colab": {},
    "colab_type": "code",
    "id": "F9mP82fJD7Jg"
   },
   "outputs": [],
   "source": [
    "x_train=x_train/255.0\n",
    "x_test=x_test/255.0"
   ]
  },
  {
   "cell_type": "markdown",
   "metadata": {
    "colab_type": "text",
    "id": "vJYIMBDJP57Y"
   },
   "source": [
    "**Codificación one hot**"
   ]
  },
  {
   "cell_type": "code",
   "execution_count": 0,
   "metadata": {
    "colab": {},
    "colab_type": "code",
    "id": "WB2l8gizP82m"
   },
   "outputs": [],
   "source": [
    "n_clases=10\n",
    "y_train_onehot=keras.utils.to_categorical(y_train,n_clases)\n",
    "y_test_onehot=keras.utils.to_categorical(y_test,n_clases)"
   ]
  },
  {
   "cell_type": "markdown",
   "metadata": {
    "colab_type": "text",
    "id": "wXfctTzBTS1m"
   },
   "source": [
    "### Se define el modelo"
   ]
  },
  {
   "cell_type": "code",
   "execution_count": 0,
   "metadata": {
    "colab": {},
    "colab_type": "code",
    "id": "XvfAGfgxQsOI"
   },
   "outputs": [],
   "source": [
    "model=keras.models.Sequential()\n",
    "\n",
    "model.add(keras.layers.Conv2D(32,kernel_size=(3,3),\n",
    "                              activation='relu',\n",
    "                              input_shape=(32,32,3)))\n",
    "model.add(keras.layers.MaxPooling2D(pool_size=(2,2)))\n",
    "\n",
    "model.add(keras.layers.Conv2D(32,(3,3), activation='relu'))\n",
    "model.add(keras.layers.MaxPooling2D(pool_size=(2,2)))\n",
    "\n",
    "model.add(keras.layers.Conv2D(64,(3,3),\n",
    "                              activation='relu'))\n",
    "model.add(keras.layers.MaxPooling2D(pool_size=(2,2)))\n",
    "\n",
    "\n",
    "model.add(keras.layers.Flatten())\n",
    "\n",
    "model.add(keras.layers.Dense(32,activation='relu'))\n",
    "model.add(keras.layers.Dense(10,activation='softmax'))"
   ]
  },
  {
   "cell_type": "markdown",
   "metadata": {
    "colab_type": "text",
    "id": "FO6STqPeAb_J"
   },
   "source": [
    "### Se muestra el resumen de la red"
   ]
  },
  {
   "cell_type": "code",
   "execution_count": 0,
   "metadata": {
    "colab": {
     "base_uri": "https://localhost:8080/",
     "height": 468
    },
    "colab_type": "code",
    "id": "kDEqFhlUe3XK",
    "outputId": "cd75e415-c1f8-4ac7-cc78-e83cd1d50349"
   },
   "outputs": [
    {
     "name": "stdout",
     "output_type": "stream",
     "text": [
      "Model: \"sequential\"\n",
      "_________________________________________________________________\n",
      "Layer (type)                 Output Shape              Param #   \n",
      "=================================================================\n",
      "conv2d (Conv2D)              (None, 30, 30, 32)        896       \n",
      "_________________________________________________________________\n",
      "max_pooling2d (MaxPooling2D) (None, 15, 15, 32)        0         \n",
      "_________________________________________________________________\n",
      "conv2d_1 (Conv2D)            (None, 13, 13, 32)        9248      \n",
      "_________________________________________________________________\n",
      "max_pooling2d_1 (MaxPooling2 (None, 6, 6, 32)          0         \n",
      "_________________________________________________________________\n",
      "conv2d_2 (Conv2D)            (None, 4, 4, 64)          18496     \n",
      "_________________________________________________________________\n",
      "max_pooling2d_2 (MaxPooling2 (None, 2, 2, 64)          0         \n",
      "_________________________________________________________________\n",
      "flatten (Flatten)            (None, 256)               0         \n",
      "_________________________________________________________________\n",
      "dense (Dense)                (None, 32)                8224      \n",
      "_________________________________________________________________\n",
      "dense_1 (Dense)              (None, 10)                330       \n",
      "=================================================================\n",
      "Total params: 37,194\n",
      "Trainable params: 37,194\n",
      "Non-trainable params: 0\n",
      "_________________________________________________________________\n"
     ]
    }
   ],
   "source": [
    "model.summary()"
   ]
  },
  {
   "cell_type": "markdown",
   "metadata": {
    "colab_type": "text",
    "id": "mB6jfrJxwoBJ"
   },
   "source": [
    "Número de parámetros de la primera capa: parámetros de pesos + parámetros de bias.\n",
    "\n",
    "Pesos= 3 ancho de filter x 3 altura del filter x 32 filtros x 3 colores\n",
    "\n",
    "Bias = 32 (1 x filtro)\n",
    "\n",
    "Número de parámetros = 9x32x3 + 32 = 896\n"
   ]
  },
  {
   "cell_type": "markdown",
   "metadata": {
    "colab_type": "text",
    "id": "ZhbzwsnSuZkI"
   },
   "source": [
    "### Entrenamiento del modelo"
   ]
  },
  {
   "cell_type": "code",
   "execution_count": 0,
   "metadata": {
    "colab": {},
    "colab_type": "code",
    "id": "IwJAUQq0TJlX"
   },
   "outputs": [],
   "source": [
    "model.compile(optimizer='adam',\n",
    "              loss='categorical_crossentropy',\n",
    "              metrics=['accuracy'])"
   ]
  },
  {
   "cell_type": "code",
   "execution_count": 0,
   "metadata": {
    "colab": {
     "base_uri": "https://localhost:8080/",
     "height": 312
    },
    "colab_type": "code",
    "id": "nlnQmK3bTicW",
    "outputId": "2c4337b3-986a-4666-ec8a-878bb8cb1f44"
   },
   "outputs": [
    {
     "name": "stdout",
     "output_type": "stream",
     "text": [
      "Train on 50000 samples, validate on 10000 samples\n",
      "Epoch 1/8\n",
      "50000/50000 [==============================] - 48s 957us/sample - loss: 1.7568 - accuracy: 0.3507 - val_loss: 1.5063 - val_accuracy: 0.4545\n",
      "Epoch 2/8\n",
      "50000/50000 [==============================] - 48s 958us/sample - loss: 1.4231 - accuracy: 0.4835 - val_loss: 1.3455 - val_accuracy: 0.5149\n",
      "Epoch 3/8\n",
      "50000/50000 [==============================] - 48s 956us/sample - loss: 1.3043 - accuracy: 0.5321 - val_loss: 1.2743 - val_accuracy: 0.5447\n",
      "Epoch 4/8\n",
      "50000/50000 [==============================] - 48s 962us/sample - loss: 1.2254 - accuracy: 0.5650 - val_loss: 1.2124 - val_accuracy: 0.5638\n",
      "Epoch 5/8\n",
      "50000/50000 [==============================] - 48s 962us/sample - loss: 1.1588 - accuracy: 0.5928 - val_loss: 1.1883 - val_accuracy: 0.5871\n",
      "Epoch 6/8\n",
      "50000/50000 [==============================] - 48s 959us/sample - loss: 1.1098 - accuracy: 0.6104 - val_loss: 1.1186 - val_accuracy: 0.6062\n",
      "Epoch 7/8\n",
      "50000/50000 [==============================] - 48s 957us/sample - loss: 1.0624 - accuracy: 0.6293 - val_loss: 1.1383 - val_accuracy: 0.6011\n",
      "Epoch 8/8\n",
      "50000/50000 [==============================] - 48s 955us/sample - loss: 1.0244 - accuracy: 0.6428 - val_loss: 1.1544 - val_accuracy: 0.5937\n"
     ]
    }
   ],
   "source": [
    "history=model.fit(x_train, y_train_onehot,\n",
    "                  epochs=8,\n",
    "                  batch_size=128,\n",
    "                  validation_data=(x_test,y_test_onehot))"
   ]
  },
  {
   "cell_type": "code",
   "execution_count": 0,
   "metadata": {
    "colab": {
     "base_uri": "https://localhost:8080/",
     "height": 294
    },
    "colab_type": "code",
    "id": "tw7wqGM_UB7V",
    "outputId": "0902b7d9-5484-4bbb-ef94-c0895f977e70"
   },
   "outputs": [
    {
     "data": {
      "image/png": "[encoded data removed]",
      "text/plain": [
       "<Figure size 432x288 with 1 Axes>"
      ]
     },
     "metadata": {
      "tags": []
     },
     "output_type": "display_data"
    }
   ],
   "source": [
    "import matplotlib.pyplot as plt\n",
    "plt.plot(history.history['accuracy'])\n",
    "plt.plot(history.history['val_accuracy'])\n",
    "plt.title('Precisión de entrenamiento y validación')\n",
    "plt.ylabel('Precisión')\n",
    "plt.xlabel('Iteración')\n",
    "plt.legend(['Entrenamiento','Validación'],loc='lower right')\n",
    "plt.show()"
   ]
  },
  {
   "cell_type": "markdown",
   "metadata": {
    "colab_type": "text",
    "id": "5HVpLkx3vR1l"
   },
   "source": [
    "###  Mejoras\n",
    "**Modelo 2**\n",
    "Se agregaron capas convolucionales, se aumentaron los filtros de las mismas, se aumentó el número de neuronas de la última capa totalmente conectada y se agregó Dropout. "
   ]
  },
  {
   "cell_type": "code",
   "execution_count": 0,
   "metadata": {
    "colab": {},
    "colab_type": "code",
    "id": "30FPBuX00k1p"
   },
   "outputs": [],
   "source": [
    "model2=keras.models.Sequential()\n",
    "\n",
    "model2.add(keras.layers.Conv2D(64,kernel_size=(3,3),\n",
    "                              activation='relu',\n",
    "                              input_shape=(32,32,3)))\n",
    "model2.add(keras.layers.Conv2D(64,(3,3), activation='relu'))\n",
    "model2.add(keras.layers.MaxPooling2D(pool_size=(2,2)))\n",
    "\n",
    "model2.add(keras.layers.Conv2D(64,(3,3), activation='relu'))\n",
    "model2.add(keras.layers.Conv2D(64,(3,3), activation='relu'))\n",
    "model2.add(keras.layers.MaxPooling2D(pool_size=(2,2)))\n",
    "\n",
    "model2.add(keras.layers.Conv2D(128,(3,3), activation='relu'))\n",
    "\n",
    "model2.add(keras.layers.Flatten())\n",
    "\n",
    "model2.add(keras.layers.Dense(128,activation='relu'))\n",
    "model2.add(keras.layers.Dense(10,activation='softmax'))\n",
    "\n"
   ]
  },
  {
   "cell_type": "code",
   "execution_count": 0,
   "metadata": {
    "colab": {
     "base_uri": "https://localhost:8080/",
     "height": 312
    },
    "colab_type": "code",
    "id": "xFl-bv3v1ZLU",
    "outputId": "ca5bf912-2e5f-4a51-c8af-9e98dc4284c9"
   },
   "outputs": [
    {
     "name": "stdout",
     "output_type": "stream",
     "text": [
      "Train on 50000 samples, validate on 10000 samples\n",
      "Epoch 1/8\n",
      "50000/50000 [==============================] - 332s 7ms/sample - loss: 1.6347 - accuracy: 0.3982 - val_loss: 1.4747 - val_accuracy: 0.4785\n",
      "Epoch 2/8\n",
      "50000/50000 [==============================] - 332s 7ms/sample - loss: 1.2042 - accuracy: 0.5715 - val_loss: 1.1853 - val_accuracy: 0.5779\n",
      "Epoch 3/8\n",
      "50000/50000 [==============================] - 329s 7ms/sample - loss: 1.0089 - accuracy: 0.6432 - val_loss: 0.9541 - val_accuracy: 0.6663\n",
      "Epoch 4/8\n",
      "50000/50000 [==============================] - 328s 7ms/sample - loss: 0.8582 - accuracy: 0.6974 - val_loss: 0.9281 - val_accuracy: 0.6823\n",
      "Epoch 5/8\n",
      "50000/50000 [==============================] - 329s 7ms/sample - loss: 0.7667 - accuracy: 0.7311 - val_loss: 0.8117 - val_accuracy: 0.7221\n",
      "Epoch 6/8\n",
      "50000/50000 [==============================] - 330s 7ms/sample - loss: 0.6949 - accuracy: 0.7562 - val_loss: 0.7720 - val_accuracy: 0.7315\n",
      "Epoch 7/8\n",
      "50000/50000 [==============================] - 331s 7ms/sample - loss: 0.6350 - accuracy: 0.7774 - val_loss: 0.7925 - val_accuracy: 0.7330\n",
      "Epoch 8/8\n",
      "50000/50000 [==============================] - 330s 7ms/sample - loss: 0.5803 - accuracy: 0.7963 - val_loss: 0.7328 - val_accuracy: 0.7450\n"
     ]
    }
   ],
   "source": [
    "model2.compile(optimizer='adam',\n",
    "              loss='categorical_crossentropy',\n",
    "              metrics=['accuracy'])\n",
    "\n",
    "history=model2.fit(x_train, y_train_onehot,\n",
    "                  epochs=8,\n",
    "                  batch_size=128,\n",
    "                  validation_data=(x_test,y_test_onehot))"
   ]
  },
  {
   "cell_type": "code",
   "execution_count": 0,
   "metadata": {
    "colab": {
     "base_uri": "https://localhost:8080/",
     "height": 294
    },
    "colab_type": "code",
    "id": "pMTXmoBJFNxS",
    "outputId": "18d8b1e2-1fd0-4169-cf7c-14dade3d8aa5"
   },
   "outputs": [
    {
     "data": {
      "image/png": "[encoded data removed]",
      "text/plain": [
       "<Figure size 432x288 with 1 Axes>"
      ]
     },
     "metadata": {
      "tags": []
     },
     "output_type": "display_data"
    }
   ],
   "source": [
    "import matplotlib.pyplot as plt\n",
    "plt.plot(history.history['accuracy'])\n",
    "plt.plot(history.history['val_accuracy'])\n",
    "plt.title('Precisión de entrenamiento y validación Modelo 2')\n",
    "plt.ylabel('Precisión')\n",
    "plt.xlabel('Iteración')\n",
    "plt.legend(['Entrenamiento','Validación'],loc='lower right')\n",
    "plt.show()"
   ]
  },
  {
   "cell_type": "markdown",
   "metadata": {
    "colab_type": "text",
    "id": "gd5ICmahvvii"
   },
   "source": [
    "**Modelo 3**"
   ]
  },
  {
   "cell_type": "code",
   "execution_count": 0,
   "metadata": {
    "colab": {},
    "colab_type": "code",
    "id": "nmO9wa2e1cKj"
   },
   "outputs": [],
   "source": [
    "model3=keras.models.Sequential()\n",
    "\n",
    "model3.add(keras.layers.Conv2D(64,kernel_size=(3,3),\n",
    "                              activation='relu',\n",
    "                              input_shape=(32,32,3)))\n",
    "model3.add(keras.layers.Conv2D(64,(3,3), activation='relu'))\n",
    "model3.add(keras.layers.MaxPooling2D(pool_size=(2,2)))\n",
    "\n",
    "model3.add(keras.layers.Conv2D(64,(3,3), activation='relu'))\n",
    "model3.add(keras.layers.Conv2D(64,(3,3), activation='relu'))\n",
    "model3.add(keras.layers.MaxPooling2D(pool_size=(2,2)))\n",
    "\n",
    "model3.add(keras.layers.Conv2D(128,(3,3), activation='relu'))\n",
    "\n",
    "model3.add(keras.layers.Flatten())\n",
    "\n",
    "#model3.add(keras.layers.BatchNormalization())\n",
    "model3.add(keras.layers.Dropout(0.4))\n",
    "model3.add(keras.layers.Dense(128,activation='relu'))\n",
    "model3.add(keras.layers.Dense(10,activation='softmax'))\n",
    "\n"
   ]
  },
  {
   "cell_type": "code",
   "execution_count": 0,
   "metadata": {
    "colab": {
     "base_uri": "https://localhost:8080/",
     "height": 312
    },
    "colab_type": "code",
    "id": "mLlKphei3PMs",
    "outputId": "72a63e23-3404-4533-e9e9-1383e09d1e6a"
   },
   "outputs": [
    {
     "name": "stdout",
     "output_type": "stream",
     "text": [
      "Train on 50000 samples, validate on 10000 samples\n",
      "Epoch 1/8\n",
      "50000/50000 [==============================] - 333s 7ms/sample - loss: 1.6885 - accuracy: 0.3694 - val_loss: 1.3317 - val_accuracy: 0.5147\n",
      "Epoch 2/8\n",
      "50000/50000 [==============================] - 330s 7ms/sample - loss: 1.2584 - accuracy: 0.5473 - val_loss: 1.1439 - val_accuracy: 0.5914\n",
      "Epoch 3/8\n",
      "50000/50000 [==============================] - 335s 7ms/sample - loss: 1.0864 - accuracy: 0.6128 - val_loss: 0.9702 - val_accuracy: 0.6539\n",
      "Epoch 4/8\n",
      "50000/50000 [==============================] - 335s 7ms/sample - loss: 0.9628 - accuracy: 0.6583 - val_loss: 0.8960 - val_accuracy: 0.6878\n",
      "Epoch 5/8\n",
      "50000/50000 [==============================] - 334s 7ms/sample - loss: 0.8617 - accuracy: 0.6951 - val_loss: 0.8129 - val_accuracy: 0.7122\n",
      "Epoch 6/8\n",
      "50000/50000 [==============================] - 332s 7ms/sample - loss: 0.7923 - accuracy: 0.7204 - val_loss: 0.7908 - val_accuracy: 0.7295\n",
      "Epoch 7/8\n",
      "50000/50000 [==============================] - 332s 7ms/sample - loss: 0.7382 - accuracy: 0.7397 - val_loss: 0.8116 - val_accuracy: 0.7233\n",
      "Epoch 8/8\n",
      "50000/50000 [==============================] - 332s 7ms/sample - loss: 0.6925 - accuracy: 0.7558 - val_loss: 0.7181 - val_accuracy: 0.7496\n"
     ]
    }
   ],
   "source": [
    "model3.compile(optimizer='adam',\n",
    "              loss='categorical_crossentropy',\n",
    "              metrics=['accuracy'])\n",
    "\n",
    "history3=model3.fit(x_train, y_train_onehot,\n",
    "                  epochs=8,\n",
    "                  batch_size=128,\n",
    "                  validation_data=(x_test,y_test_onehot))"
   ]
  },
  {
   "cell_type": "code",
   "execution_count": 0,
   "metadata": {
    "colab": {
     "base_uri": "https://localhost:8080/",
     "height": 294
    },
    "colab_type": "code",
    "id": "5v--q76Z4KjQ",
    "outputId": "340a427e-47cf-4b4d-bf33-a883f40d9124"
   },
   "outputs": [
    {
     "data": {
      "image/png": "[encoded data removed]",
      "text/plain": [
       "<Figure size 432x288 with 1 Axes>"
      ]
     },
     "metadata": {
      "tags": []
     },
     "output_type": "display_data"
    }
   ],
   "source": [
    "import matplotlib.pyplot as plt\n",
    "plt.plot(history3.history['accuracy'])\n",
    "plt.plot(history3.history['val_accuracy'])\n",
    "plt.title('Precisión de entrenamiento y validación Modelo 3')\n",
    "plt.ylabel('Precisión')\n",
    "plt.xlabel('Iteración')\n",
    "plt.legend(['Entrenamiento','Validación'],loc='lower right')\n",
    "plt.show()"
   ]
  },
  {
   "cell_type": "markdown",
   "metadata": {
    "colab_type": "text",
    "id": "OktX3Fz8xydO"
   },
   "source": [
    "**Modelo 4 con batch normalization**"
   ]
  },
  {
   "cell_type": "code",
   "execution_count": 0,
   "metadata": {
    "colab": {
     "base_uri": "https://localhost:8080/",
     "height": 294
    },
    "colab_type": "code",
    "id": "NsXVgZzuuFAR",
    "outputId": "15460203-7a40-4a53-9cdf-27f4fe2fa80f"
   },
   "outputs": [
    {
     "data": {
      "image/png": "[encoded data removed]",
      "text/plain": [
       "<Figure size 432x288 with 1 Axes>"
      ]
     },
     "metadata": {
      "tags": []
     },
     "output_type": "display_data"
    }
   ],
   "source": [
    "import matplotlib.pyplot as plt\n",
    "plt.plot(history3.history['accuracy'])\n",
    "plt.plot(history3.history['val_accuracy'])\n",
    "plt.title('Precisión de entrenamiento y validación Modelo 2')\n",
    "plt.ylabel('Precisión')\n",
    "plt.xlabel('Iteración')\n",
    "plt.legend(['Entrenamiento','Validación'],loc='lower right')\n",
    "plt.show()"
   ]
  },
  {
   "cell_type": "markdown",
   "metadata": {
    "colab_type": "text",
    "id": "UNwIKvGQUP6D"
   },
   "source": [
    "### Aumento de datos de entrenamiento con imágenes reflejadas"
   ]
  },
  {
   "cell_type": "markdown",
   "metadata": {
    "colab_type": "text",
    "id": "zaX6kGgHsm7y"
   },
   "source": [
    "Se aumentan los datos de entrenamiento a través de reflejar las imágene horizontalmente y añadirlas al dataset."
   ]
  },
  {
   "cell_type": "code",
   "execution_count": 0,
   "metadata": {
    "colab": {},
    "colab_type": "code",
    "id": "yUwsMCzoUSnm"
   },
   "outputs": [],
   "source": [
    "x_train_ext=np.concatenate((x_train,np.flip(x_train,2)),axis=0)\n",
    "y_train_ext=np.concatenate((y_train,y_train),axis=0)"
   ]
  },
  {
   "cell_type": "markdown",
   "metadata": {
    "colab_type": "text",
    "id": "pjidBEngsybH"
   },
   "source": [
    "Se codifican las etiquetas del nuevo conjunto de datos y_train_ext en onehot."
   ]
  },
  {
   "cell_type": "code",
   "execution_count": 0,
   "metadata": {
    "colab": {},
    "colab_type": "code",
    "id": "j0CBIIyWr5zK"
   },
   "outputs": [],
   "source": [
    "n_clases=10\n",
    "y_train_ext_onehot=keras.utils.to_categorical(y_train_ext,n_clases)\n"
   ]
  },
  {
   "cell_type": "markdown",
   "metadata": {
    "colab_type": "text",
    "id": "etx3IeamsxFa"
   },
   "source": [
    "Se reutiliza el modelo previamente definido"
   ]
  },
  {
   "cell_type": "code",
   "execution_count": 0,
   "metadata": {
    "colab": {},
    "colab_type": "code",
    "id": "TWkhz3NmyCpf"
   },
   "outputs": [],
   "source": [
    "model5=keras.models.Sequential()\n",
    "\n",
    "model5.add(keras.layers.Conv2D(64,kernel_size=(3,3),\n",
    "                              activation='relu',\n",
    "                              input_shape=(32,32,3)))\n",
    "model5.add(keras.layers.Conv2D(64,(3,3), activation='relu'))\n",
    "model5.add(keras.layers.MaxPooling2D(pool_size=(2,2)))\n",
    "\n",
    "model5.add(keras.layers.Conv2D(64,(3,3), activation='relu'))\n",
    "model5.add(keras.layers.Conv2D(64,(3,3), activation='relu'))\n",
    "model5.add(keras.layers.MaxPooling2D(pool_size=(2,2)))\n",
    "\n",
    "model5.add(keras.layers.Conv2D(128,(3,3), activation='relu'))\n",
    "\n",
    "model5.add(keras.layers.Flatten())\n",
    "\n",
    "model5.add(keras.layers.Dropout(0.4))\n",
    "model5.add(keras.layers.Dense(128,activation='relu'))\n",
    "model5.add(keras.layers.Dense(10,activation='softmax'))"
   ]
  },
  {
   "cell_type": "code",
   "execution_count": 0,
   "metadata": {
    "colab": {
     "base_uri": "https://localhost:8080/",
     "height": 314
    },
    "colab_type": "code",
    "id": "tNRWuoOXyWPH",
    "outputId": "9e1b3a90-8301-4fc8-ac35-4cad06863827"
   },
   "outputs": [
    {
     "name": "stdout",
     "output_type": "stream",
     "text": [
      "Epoch 1/8\n",
      "782/782 [==============================] - 641s 820ms/step - loss: 1.4403 - accuracy: 0.4743 - val_loss: 1.1172 - val_accuracy: 0.6070\n",
      "Epoch 2/8\n",
      "782/782 [==============================] - 646s 826ms/step - loss: 0.9866 - accuracy: 0.6495 - val_loss: 0.9034 - val_accuracy: 0.6872\n",
      "Epoch 3/8\n",
      "782/782 [==============================] - 655s 838ms/step - loss: 0.8139 - accuracy: 0.7137 - val_loss: 0.7512 - val_accuracy: 0.7391\n",
      "Epoch 4/8\n",
      "782/782 [==============================] - 650s 831ms/step - loss: 0.7205 - accuracy: 0.7456 - val_loss: 0.7312 - val_accuracy: 0.7480\n",
      "Epoch 5/8\n",
      "782/782 [==============================] - 647s 828ms/step - loss: 0.6555 - accuracy: 0.7701 - val_loss: 0.6653 - val_accuracy: 0.7768\n",
      "Epoch 6/8\n",
      "782/782 [==============================] - 645s 825ms/step - loss: 0.6105 - accuracy: 0.7862 - val_loss: 0.6700 - val_accuracy: 0.7695\n",
      "Epoch 7/8\n",
      "782/782 [==============================] - 645s 825ms/step - loss: 0.5744 - accuracy: 0.8000 - val_loss: 0.6171 - val_accuracy: 0.7901\n",
      "Epoch 8/8\n",
      "782/782 [==============================] - 646s 827ms/step - loss: 0.5388 - accuracy: 0.8111 - val_loss: 0.6422 - val_accuracy: 0.7862\n"
     ]
    }
   ],
   "source": [
    "model5.compile(optimizer='adam',\n",
    "              loss='categorical_crossentropy',\n",
    "              metrics=['accuracy'])\n",
    "\n",
    "history5=model5.fit(x_train_ext, y_train_ext_onehot,\n",
    "                  epochs=8,\n",
    "                  batch_size=128,\n",
    "                  validation_data=(x_test,y_test_onehot))"
   ]
  },
  {
   "cell_type": "code",
   "execution_count": 0,
   "metadata": {
    "colab": {
     "base_uri": "https://localhost:8080/",
     "height": 294
    },
    "colab_type": "code",
    "id": "dyq9eMkhyQrR",
    "outputId": "d77ca944-5fcb-4e50-ebaa-acc8102436fd"
   },
   "outputs": [
    {
     "data": {
      "image/png": "[encoded data removed]",
      "text/plain": [
       "<Figure size 432x288 with 1 Axes>"
      ]
     },
     "metadata": {
      "tags": []
     },
     "output_type": "display_data"
    }
   ],
   "source": [
    "import matplotlib.pyplot as plt\n",
    "plt.plot(history5.history['accuracy'])\n",
    "plt.plot(history5.history['val_accuracy'])\n",
    "plt.title('Precisión de entrenamiento y validación Modelo con aumento de datos')\n",
    "plt.ylabel('Precisión')\n",
    "plt.xlabel('Iteración')\n",
    "plt.legend(['Entrenamiento','Validación'],loc='lower right')\n",
    "plt.show()"
   ]
  },
  {
   "cell_type": "markdown",
   "metadata": {
    "colab_type": "text",
    "id": "_99HR6RKx6Fs"
   },
   "source": [
    "### Predicción de imágenes"
   ]
  },
  {
   "cell_type": "markdown",
   "metadata": {
    "colab_type": "text",
    "id": "tj40ai8rG6F6"
   },
   "source": [
    "**Predicción con imagen de gato:**"
   ]
  },
  {
   "cell_type": "code",
   "execution_count": 0,
   "metadata": {
    "colab": {
     "base_uri": "https://localhost:8080/",
     "height": 225
    },
    "colab_type": "code",
    "id": "y-PRKc9tx1nf",
    "outputId": "61bcea6d-f6fe-49c2-dae1-5dc962122e6c"
   },
   "outputs": [
    {
     "name": "stdout",
     "output_type": "stream",
     "text": [
      "--2020-03-29 21:03:40--  https://static2.diariouno.com.ar/media/2019/10/gato-2-700x395.jpg\n",
      "Resolving static2.diariouno.com.ar (static2.diariouno.com.ar)... 104.22.46.190, 104.22.47.190, 2606:4700:10::6816:2fbe, ...\n",
      "Connecting to static2.diariouno.com.ar (static2.diariouno.com.ar)|104.22.46.190|:443... connected.\n",
      "HTTP request sent, awaiting response... 200 OK\n",
      "Length: unspecified [image/jpeg]\n",
      "Saving to: ‘gato-2-700x395.jpg.2’\n",
      "\n",
      "gato-2-700x395.jpg.     [ <=>                ]  42.72K  --.-KB/s    in 0.02s   \n",
      "\n",
      "2020-03-29 21:03:40 (2.76 MB/s) - ‘gato-2-700x395.jpg.2’ saved [43744]\n",
      "\n",
      "airplane 0.5385398\n"
     ]
    }
   ],
   "source": [
    "from PIL import Image, ImageOps\n",
    "!wget https://static2.diariouno.com.ar/media/2019/10/gato-2-700x395.jpg\n",
    "\n",
    "img=Image.open('gato-2-700x395.jpg')\n",
    "img=ImageOps.fit(img,(32,32),Image.ANTIALIAS)\n",
    "\n",
    "img = np.asarray(img, dtype = 'float32') / 255.  \n",
    "\n",
    "img=img[np.newaxis,:]\n",
    "\n",
    "names =('airplane', 'automobile', 'bird', 'cat', 'deer', 'dog', 'frog', 'horse', 'ship', 'truck')\n",
    "\n",
    "pred = model5.predict(img)\n",
    "print(names[np.argmax(pred)], pred.max())\n"
   ]
  },
  {
   "cell_type": "code",
   "execution_count": 0,
   "metadata": {
    "colab": {
     "base_uri": "https://localhost:8080/",
     "height": 80
    },
    "colab_type": "code",
    "id": "AL_QeNyxBnf_",
    "outputId": "13b6a4f4-de27-49d5-a64b-76ad7681e3b7"
   },
   "outputs": [
    {
     "data": {
      "text/html": [
       "<div>\n",
       "<style scoped>\n",
       "    .dataframe tbody tr th:only-of-type {\n",
       "        vertical-align: middle;\n",
       "    }\n",
       "\n",
       "    .dataframe tbody tr th {\n",
       "        vertical-align: top;\n",
       "    }\n",
       "\n",
       "    .dataframe thead th {\n",
       "        text-align: right;\n",
       "    }\n",
       "</style>\n",
       "<table border=\"1\" class=\"dataframe\">\n",
       "  <thead>\n",
       "    <tr style=\"text-align: right;\">\n",
       "      <th></th>\n",
       "      <th>airplane</th>\n",
       "      <th>automobile</th>\n",
       "      <th>bird</th>\n",
       "      <th>cat</th>\n",
       "      <th>deer</th>\n",
       "      <th>dog</th>\n",
       "      <th>frog</th>\n",
       "      <th>horse</th>\n",
       "      <th>ship</th>\n",
       "      <th>truck</th>\n",
       "    </tr>\n",
       "  </thead>\n",
       "  <tbody>\n",
       "    <tr>\n",
       "      <th>0</th>\n",
       "      <td>0.53854</td>\n",
       "      <td>0.000107</td>\n",
       "      <td>0.162534</td>\n",
       "      <td>0.253982</td>\n",
       "      <td>0.020715</td>\n",
       "      <td>0.007152</td>\n",
       "      <td>0.006597</td>\n",
       "      <td>0.005884</td>\n",
       "      <td>0.0029</td>\n",
       "      <td>0.001589</td>\n",
       "    </tr>\n",
       "  </tbody>\n",
       "</table>\n",
       "</div>"
      ],
      "text/plain": [
       "   airplane  automobile      bird  ...     horse    ship     truck\n",
       "0   0.53854    0.000107  0.162534  ...  0.005884  0.0029  0.001589\n",
       "\n",
       "[1 rows x 10 columns]"
      ]
     },
     "execution_count": 43,
     "metadata": {
      "tags": []
     },
     "output_type": "execute_result"
    }
   ],
   "source": [
    "import pandas as pd\n",
    "df=pd.DataFrame(pred, columns=names) \n",
    "df.head()"
   ]
  },
  {
   "cell_type": "markdown",
   "metadata": {
    "colab_type": "text",
    "id": "3t9f48zxG9UK"
   },
   "source": [
    "Se obtuvo como resultado de predicción: un avión"
   ]
  },
  {
   "cell_type": "markdown",
   "metadata": {
    "colab_type": "text",
    "id": "EWEnvLFNHA4O"
   },
   "source": [
    "**Predicción con otra imagen de gato**"
   ]
  },
  {
   "cell_type": "code",
   "execution_count": 0,
   "metadata": {
    "colab": {
     "base_uri": "https://localhost:8080/",
     "height": 271
    },
    "colab_type": "code",
    "id": "diMr1ymaF927",
    "outputId": "c6bcb545-e73f-41c0-8dae-c4ecd122364a"
   },
   "outputs": [
    {
     "name": "stdout",
     "output_type": "stream",
     "text": [
      "--2020-03-29 21:02:05--  https://estaticos.miarevista.es/media/cache/760x570_thumb/uploads/images/article/57725157a1d4251a098bc9a3/ppal-ronroneogato_0.jpg\n",
      "Resolving estaticos.miarevista.es (estaticos.miarevista.es)... 185.152.67.178\n",
      "Connecting to estaticos.miarevista.es (estaticos.miarevista.es)|185.152.67.178|:443... connected.\n",
      "HTTP request sent, awaiting response... 200 OK\n",
      "Length: unspecified [image/jpeg]\n",
      "Saving to: ‘ppal-ronroneogato_0.jpg.1’\n",
      "\n",
      "ppal-ronroneogato_0     [ <=>                ]  32.28K  --.-KB/s    in 0.06s   \n",
      "\n",
      "2020-03-29 21:02:05 (563 KB/s) - ‘ppal-ronroneogato_0.jpg.1’ saved [33054]\n",
      "\n",
      "cat 0.9805659\n"
     ]
    },
    {
     "data": {
      "text/html": [
       "<div>\n",
       "<style scoped>\n",
       "    .dataframe tbody tr th:only-of-type {\n",
       "        vertical-align: middle;\n",
       "    }\n",
       "\n",
       "    .dataframe tbody tr th {\n",
       "        vertical-align: top;\n",
       "    }\n",
       "\n",
       "    .dataframe thead th {\n",
       "        text-align: right;\n",
       "    }\n",
       "</style>\n",
       "<table border=\"1\" class=\"dataframe\">\n",
       "  <thead>\n",
       "    <tr style=\"text-align: right;\">\n",
       "      <th></th>\n",
       "      <th>airplane</th>\n",
       "      <th>automobile</th>\n",
       "      <th>bird</th>\n",
       "      <th>cat</th>\n",
       "      <th>deer</th>\n",
       "      <th>dog</th>\n",
       "      <th>frog</th>\n",
       "      <th>horse</th>\n",
       "      <th>ship</th>\n",
       "      <th>truck</th>\n",
       "    </tr>\n",
       "  </thead>\n",
       "  <tbody>\n",
       "    <tr>\n",
       "      <th>0</th>\n",
       "      <td>5.198917e-07</td>\n",
       "      <td>6.027731e-08</td>\n",
       "      <td>0.000002</td>\n",
       "      <td>0.980566</td>\n",
       "      <td>0.000045</td>\n",
       "      <td>0.019131</td>\n",
       "      <td>0.000026</td>\n",
       "      <td>0.000004</td>\n",
       "      <td>0.000225</td>\n",
       "      <td>6.354699e-08</td>\n",
       "    </tr>\n",
       "  </tbody>\n",
       "</table>\n",
       "</div>"
      ],
      "text/plain": [
       "       airplane    automobile      bird  ...     horse      ship         truck\n",
       "0  5.198917e-07  6.027731e-08  0.000002  ...  0.000004  0.000225  6.354699e-08\n",
       "\n",
       "[1 rows x 10 columns]"
      ]
     },
     "execution_count": 48,
     "metadata": {
      "tags": []
     },
     "output_type": "execute_result"
    }
   ],
   "source": [
    "!wget https://estaticos.miarevista.es/media/cache/760x570_thumb/uploads/images/article/57725157a1d4251a098bc9a3/ppal-ronroneogato_0.jpg\n",
    "\n",
    "img=Image.open('ppal-ronroneogato_0.jpg')\n",
    "img=ImageOps.fit(img,(32,32),Image.ANTIALIAS)\n",
    "\n",
    "img = np.asarray(img, dtype = 'float32') / 255.  \n",
    "\n",
    "img=img[np.newaxis,:]\n",
    "\n",
    "names =('airplane', 'automobile', 'bird', 'cat', 'deer', 'dog', 'frog', 'horse', 'ship', 'truck')\n",
    "\n",
    "pred = model5.predict(img)\n",
    "print(names[np.argmax(pred)], pred.max())\n",
    "\n",
    "df=pd.DataFrame(pred, columns=names) \n",
    "df.head()"
   ]
  },
  {
   "cell_type": "markdown",
   "metadata": {
    "colab_type": "text",
    "id": "vJLZLAl8HL5t"
   },
   "source": [
    "Se obtuvo la predicción de que es un gato con un 98% de probabilidad.\n"
   ]
  },
  {
   "cell_type": "markdown",
   "metadata": {
    "colab_type": "text",
    "id": "FjVDOTFxHMGN"
   },
   "source": [
    "**Predicción con imagen de auto**"
   ]
  },
  {
   "cell_type": "code",
   "execution_count": 0,
   "metadata": {
    "colab": {
     "base_uri": "https://localhost:8080/",
     "height": 271
    },
    "colab_type": "code",
    "id": "wFLvCNl5Ekzh",
    "outputId": "61e1e7af-d931-4464-94d0-9ab36c5c698f"
   },
   "outputs": [
    {
     "name": "stdout",
     "output_type": "stream",
     "text": [
      "--2020-03-29 20:55:40--  http://ecologiteca.com/wp-content/uploads/2014/07/auto.jpg\n",
      "Resolving ecologiteca.com (ecologiteca.com)... 198.136.62.177\n",
      "Connecting to ecologiteca.com (ecologiteca.com)|198.136.62.177|:80... connected.\n",
      "HTTP request sent, awaiting response... 200 OK\n",
      "Length: 55697 (54K) [image/jpeg]\n",
      "Saving to: ‘auto.jpg.1’\n",
      "\n",
      "auto.jpg.1          100%[===================>]  54.39K   350KB/s    in 0.2s    \n",
      "\n",
      "2020-03-29 20:55:41 (350 KB/s) - ‘auto.jpg.1’ saved [55697/55697]\n",
      "\n",
      "automobile 0.999747\n"
     ]
    },
    {
     "data": {
      "text/html": [
       "<div>\n",
       "<style scoped>\n",
       "    .dataframe tbody tr th:only-of-type {\n",
       "        vertical-align: middle;\n",
       "    }\n",
       "\n",
       "    .dataframe tbody tr th {\n",
       "        vertical-align: top;\n",
       "    }\n",
       "\n",
       "    .dataframe thead th {\n",
       "        text-align: right;\n",
       "    }\n",
       "</style>\n",
       "<table border=\"1\" class=\"dataframe\">\n",
       "  <thead>\n",
       "    <tr style=\"text-align: right;\">\n",
       "      <th></th>\n",
       "      <th>airplane</th>\n",
       "      <th>automobile</th>\n",
       "      <th>bird</th>\n",
       "      <th>cat</th>\n",
       "      <th>deer</th>\n",
       "      <th>dog</th>\n",
       "      <th>frog</th>\n",
       "      <th>horse</th>\n",
       "      <th>ship</th>\n",
       "      <th>truck</th>\n",
       "    </tr>\n",
       "  </thead>\n",
       "  <tbody>\n",
       "    <tr>\n",
       "      <th>0</th>\n",
       "      <td>0.000005</td>\n",
       "      <td>0.999747</td>\n",
       "      <td>2.820974e-10</td>\n",
       "      <td>1.958896e-11</td>\n",
       "      <td>5.284862e-16</td>\n",
       "      <td>2.714893e-13</td>\n",
       "      <td>5.064549e-12</td>\n",
       "      <td>4.029329e-14</td>\n",
       "      <td>6.757777e-07</td>\n",
       "      <td>0.000247</td>\n",
       "    </tr>\n",
       "  </tbody>\n",
       "</table>\n",
       "</div>"
      ],
      "text/plain": [
       "   airplane  automobile          bird  ...         horse          ship     truck\n",
       "0  0.000005    0.999747  2.820974e-10  ...  4.029329e-14  6.757777e-07  0.000247\n",
       "\n",
       "[1 rows x 10 columns]"
      ]
     },
     "execution_count": 46,
     "metadata": {
      "tags": []
     },
     "output_type": "execute_result"
    }
   ],
   "source": [
    "\n",
    "!wget http://ecologiteca.com/wp-content/uploads/2014/07/auto.jpg\n",
    "\n",
    "img=Image.open('auto.jpg')\n",
    "img=ImageOps.fit(img,(32,32),Image.ANTIALIAS)\n",
    "\n",
    "img = np.asarray(img, dtype = 'float32') / 255.  \n",
    "\n",
    "img=img[np.newaxis,:]\n",
    "\n",
    "names =('airplane', 'automobile', 'bird', 'cat', 'deer', 'dog', 'frog', 'horse', 'ship', 'truck')\n",
    "\n",
    "pred = model5.predict(img)\n",
    "print(names[np.argmax(pred)], pred.max())\n",
    "\n",
    "df=pd.DataFrame(pred, columns=names) \n",
    "df.head()"
   ]
  },
  {
   "cell_type": "markdown",
   "metadata": {
    "colab_type": "text",
    "id": "h2Bk3-IqHUaA"
   },
   "source": [
    "Se obtuvo que es un auto con un 99,97% de probabilidad.\n"
   ]
  },
  {
   "cell_type": "markdown",
   "metadata": {
    "colab_type": "text",
    "id": "6BhFs61BIfmZ"
   },
   "source": [
    "**Predicción con imagen de pájaro**\n"
   ]
  },
  {
   "cell_type": "code",
   "execution_count": 0,
   "metadata": {
    "colab": {
     "base_uri": "https://localhost:8080/",
     "height": 271
    },
    "colab_type": "code",
    "id": "Rivm8XvDIiux",
    "outputId": "4d398b58-50bf-48f3-8cce-d4cf941bac9a"
   },
   "outputs": [
    {
     "name": "stdout",
     "output_type": "stream",
     "text": [
      "--2020-03-29 21:11:37--  https://st.depositphotos.com/1578496/3959/i/950/depositphotos_39590521-stock-photo-tickells-blue-flycatcher-bird.jpg\n",
      "Resolving st.depositphotos.com (st.depositphotos.com)... 104.72.42.48\n",
      "Connecting to st.depositphotos.com (st.depositphotos.com)|104.72.42.48|:443... connected.\n",
      "HTTP request sent, awaiting response... 200 OK\n",
      "Length: 127190 (124K) [image/jpeg]\n",
      "Saving to: ‘depositphotos_39590521-stock-photo-tickells-blue-flycatcher-bird.jpg’\n",
      "\n",
      "depositphotos_39590 100%[===================>] 124.21K  --.-KB/s    in 0.1s    \n",
      "\n",
      "2020-03-29 21:11:37 (1.05 MB/s) - ‘depositphotos_39590521-stock-photo-tickells-blue-flycatcher-bird.jpg’ saved [127190/127190]\n",
      "\n",
      "bird 0.97474456\n"
     ]
    },
    {
     "data": {
      "text/html": [
       "<div>\n",
       "<style scoped>\n",
       "    .dataframe tbody tr th:only-of-type {\n",
       "        vertical-align: middle;\n",
       "    }\n",
       "\n",
       "    .dataframe tbody tr th {\n",
       "        vertical-align: top;\n",
       "    }\n",
       "\n",
       "    .dataframe thead th {\n",
       "        text-align: right;\n",
       "    }\n",
       "</style>\n",
       "<table border=\"1\" class=\"dataframe\">\n",
       "  <thead>\n",
       "    <tr style=\"text-align: right;\">\n",
       "      <th></th>\n",
       "      <th>airplane</th>\n",
       "      <th>automobile</th>\n",
       "      <th>bird</th>\n",
       "      <th>cat</th>\n",
       "      <th>deer</th>\n",
       "      <th>dog</th>\n",
       "      <th>frog</th>\n",
       "      <th>horse</th>\n",
       "      <th>ship</th>\n",
       "      <th>truck</th>\n",
       "    </tr>\n",
       "  </thead>\n",
       "  <tbody>\n",
       "    <tr>\n",
       "      <th>0</th>\n",
       "      <td>0.018546</td>\n",
       "      <td>0.003326</td>\n",
       "      <td>0.974745</td>\n",
       "      <td>0.000237</td>\n",
       "      <td>0.000076</td>\n",
       "      <td>0.000155</td>\n",
       "      <td>0.000081</td>\n",
       "      <td>0.00021</td>\n",
       "      <td>0.002433</td>\n",
       "      <td>0.000192</td>\n",
       "    </tr>\n",
       "  </tbody>\n",
       "</table>\n",
       "</div>"
      ],
      "text/plain": [
       "   airplane  automobile      bird  ...    horse      ship     truck\n",
       "0  0.018546    0.003326  0.974745  ...  0.00021  0.002433  0.000192\n",
       "\n",
       "[1 rows x 10 columns]"
      ]
     },
     "execution_count": 50,
     "metadata": {
      "tags": []
     },
     "output_type": "execute_result"
    }
   ],
   "source": [
    "\n",
    "\n",
    "!wget https://st.depositphotos.com/1578496/3959/i/950/depositphotos_39590521-stock-photo-tickells-blue-flycatcher-bird.jpg\n",
    "\n",
    "img=Image.open('depositphotos_39590521-stock-photo-tickells-blue-flycatcher-bird.jpg')\n",
    "img=ImageOps.fit(img,(32,32),Image.ANTIALIAS)\n",
    "\n",
    "img = np.asarray(img, dtype = 'float32') / 255.  \n",
    "\n",
    "img=img[np.newaxis,:]\n",
    "\n",
    "names =('airplane', 'automobile', 'bird', 'cat', 'deer', 'dog', 'frog', 'horse', 'ship', 'truck')\n",
    "\n",
    "pred = model5.predict(img)\n",
    "print(names[np.argmax(pred)], pred.max())\n",
    "\n",
    "df=pd.DataFrame(pred, columns=names) \n",
    "df.head()"
   ]
  },
  {
   "cell_type": "markdown",
   "metadata": {
    "colab_type": "text",
    "id": "ZPZRODZKJScB"
   },
   "source": [
    "**Predicción con imagen de avión**"
   ]
  },
  {
   "cell_type": "code",
   "execution_count": 0,
   "metadata": {
    "colab": {
     "base_uri": "https://localhost:8080/",
     "height": 271
    },
    "colab_type": "code",
    "id": "1t5GZjxzJXE-",
    "outputId": "ac93e669-50c4-4132-eb94-ef3d329dbc91"
   },
   "outputs": [
    {
     "name": "stdout",
     "output_type": "stream",
     "text": [
      "--2020-03-29 21:15:14--  https://ep01.epimg.net/elpais/imagenes/2015/12/28/paco_nadal/1451287800_145128_1451287800_noticia_normal.jpg\n",
      "Resolving ep01.epimg.net (ep01.epimg.net)... 104.114.79.25, 104.114.79.19\n",
      "Connecting to ep01.epimg.net (ep01.epimg.net)|104.114.79.25|:443... connected.\n",
      "HTTP request sent, awaiting response... 200 OK\n",
      "Length: 151291 (148K) [image/jpeg]\n",
      "Saving to: ‘1451287800_145128_1451287800_noticia_normal.jpg’\n",
      "\n",
      "1451287800_145128_1 100%[===================>] 147.75K  --.-KB/s    in 0.04s   \n",
      "\n",
      "2020-03-29 21:15:14 (3.64 MB/s) - ‘1451287800_145128_1451287800_noticia_normal.jpg’ saved [151291/151291]\n",
      "\n",
      "airplane 0.9670778\n"
     ]
    },
    {
     "data": {
      "text/html": [
       "<div>\n",
       "<style scoped>\n",
       "    .dataframe tbody tr th:only-of-type {\n",
       "        vertical-align: middle;\n",
       "    }\n",
       "\n",
       "    .dataframe tbody tr th {\n",
       "        vertical-align: top;\n",
       "    }\n",
       "\n",
       "    .dataframe thead th {\n",
       "        text-align: right;\n",
       "    }\n",
       "</style>\n",
       "<table border=\"1\" class=\"dataframe\">\n",
       "  <thead>\n",
       "    <tr style=\"text-align: right;\">\n",
       "      <th></th>\n",
       "      <th>airplane</th>\n",
       "      <th>automobile</th>\n",
       "      <th>bird</th>\n",
       "      <th>cat</th>\n",
       "      <th>deer</th>\n",
       "      <th>dog</th>\n",
       "      <th>frog</th>\n",
       "      <th>horse</th>\n",
       "      <th>ship</th>\n",
       "      <th>truck</th>\n",
       "    </tr>\n",
       "  </thead>\n",
       "  <tbody>\n",
       "    <tr>\n",
       "      <th>0</th>\n",
       "      <td>0.967078</td>\n",
       "      <td>0.000153</td>\n",
       "      <td>0.021953</td>\n",
       "      <td>0.00521</td>\n",
       "      <td>0.00018</td>\n",
       "      <td>0.000107</td>\n",
       "      <td>0.000079</td>\n",
       "      <td>0.000015</td>\n",
       "      <td>0.005082</td>\n",
       "      <td>0.000143</td>\n",
       "    </tr>\n",
       "  </tbody>\n",
       "</table>\n",
       "</div>"
      ],
      "text/plain": [
       "   airplane  automobile      bird  ...     horse      ship     truck\n",
       "0  0.967078    0.000153  0.021953  ...  0.000015  0.005082  0.000143\n",
       "\n",
       "[1 rows x 10 columns]"
      ]
     },
     "execution_count": 51,
     "metadata": {
      "tags": []
     },
     "output_type": "execute_result"
    }
   ],
   "source": [
    "!wget https://ep01.epimg.net/elpais/imagenes/2015/12/28/paco_nadal/1451287800_145128_1451287800_noticia_normal.jpg\n",
    "\n",
    "img=Image.open('1451287800_145128_1451287800_noticia_normal.jpg')\n",
    "img=ImageOps.fit(img,(32,32),Image.ANTIALIAS)\n",
    "\n",
    "img = np.asarray(img, dtype = 'float32') / 255.  \n",
    "\n",
    "img=img[np.newaxis,:]\n",
    "\n",
    "names =('airplane', 'automobile', 'bird', 'cat', 'deer', 'dog', 'frog', 'horse', 'ship', 'truck')\n",
    "\n",
    "pred = model5.predict(img)\n",
    "print(names[np.argmax(pred)], pred.max())\n",
    "\n",
    "df=pd.DataFrame(pred, columns=names) \n",
    "df.head()"
   ]
  }
 ],
 "metadata": {
  "colab": {
   "name": "Trabajo2_Nicoletti_Karina.ipynb",
   "provenance": []
  },
  "kernelspec": {
   "display_name": "Python 3",
   "language": "python",
   "name": "python3"
  },
  "language_info": {
   "codemirror_mode": {
    "name": "ipython",
    "version": 3
   },
   "file_extension": ".py",
   "mimetype": "text/x-python",
   "name": "python",
   "nbconvert_exporter": "python",
   "pygments_lexer": "ipython3",
   "version": "3.7.4"
  }
 },
 "nbformat": 4,
 "nbformat_minor": 1
}
